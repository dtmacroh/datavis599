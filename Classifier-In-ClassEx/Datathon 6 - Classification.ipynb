{
 "cells": [
  {
   "cell_type": "markdown",
   "metadata": {},
   "source": [
    "# Datathon #6 - Classification"
   ]
  },
  {
   "cell_type": "markdown",
   "metadata": {},
   "source": [
    "This week, you will train a set of classifiers to label LEGO sets by theme, based on other metadata about the sets (year, number of parts, colors, or some combination of them). \n",
    "\n",
    "You should test at least 5 different classifiers:\n",
    "+ kNN\n",
    "+ Naïve Bayes\n",
    "+ Decision Tree\n",
    "+ Random Forest\n",
    "+ Neural Network\n",
    "\n",
    "\n",
    "For each classifier, report:\n",
    "1. What parameters (if any) you tuned.\n",
    "2. How well it performed. — Report the Accuracy, Precision, Recall, and F1-score. Also render a confusion matrix. (Remember, don’t test on your training data!)\n",
    "3. Your interpretation of the result. Explain what you think the classifier got right/wrong. (Feel free to include visualizations or additional info that helps explain)."
   ]
  },
  {
   "cell_type": "code",
   "execution_count": 19,
   "metadata": {
    "collapsed": true
   },
   "outputs": [],
   "source": [
    "import numpy as np\n",
    "import scipy as sp\n",
    "import pandas as pd\n",
    "import sklearn as sk\n",
    "import sklearn.metrics as skm\n",
    "\n",
    "import matplotlib.pyplot as plt\n",
    "%matplotlib inline\n",
    "import seaborn as sns\n",
    "sns.set(style='white', color_codes=True, font_scale=1.3)"
   ]
  },
  {
   "cell_type": "markdown",
   "metadata": {},
   "source": [
    "We will use a variant of the second dataset from last week, adding a \"theme\" column.\n",
    "\n",
    "** LEGO Colors by Set + Theme** — Contains data on the colors of the pieces in each LEGO set.\n",
    "\n",
    "- Set Num = A unique alphanumeric ID number for each set. \n",
    "- Set Name = The official name of the set (some names are reused for more than one set).\n",
    "- Year = The year the set was released.\n",
    "- Num Parts = Total number of parts listed on the box.\n",
    "- Theme = The theme the set was released under (\"Technic\", \"Ninjago\", \"Star Wars\", \"City\", etc.)\n",
    "- [Colors] = Number of parts of each color in the set, according to the Rebrickable database.\n",
    "\n",
    "You can also get more data about individual sets by going to http://rebrickable.com/sets/{SetNum}"
   ]
  },
  {
   "cell_type": "code",
   "execution_count": 20,
   "metadata": {
    "collapsed": true
   },
   "outputs": [],
   "source": [
    "# Import data, remove NaN\n",
    "lego_frame_full = pd.read_excel('Set Color Data+Themes.xlsx')\n",
    "lego_frame_full.fillna(0, inplace=True)\n",
    "\n",
    "# For this datathon we'll just focus on 10 most popular themes.\n",
    "lego_frame = lego_frame_full[(lego_frame_full[\"Theme\"] == \"Technic\") | \n",
    "                        (lego_frame_full[\"Theme\"] == \"Friends\") |\n",
    "                        (lego_frame_full[\"Theme\"] == \"City\") |\n",
    "                        (lego_frame_full[\"Theme\"] == \"Basic Set\") |\n",
    "                        (lego_frame_full[\"Theme\"] == \"Creator\") |\n",
    "                        (lego_frame_full[\"Theme\"] == \"Duplo\") |\n",
    "                        (lego_frame_full[\"Theme\"] == \"Star Wars\") |\n",
    "                        (lego_frame_full[\"Theme\"] == \"Ninjago\") |\n",
    "                        (lego_frame_full[\"Theme\"] == \"Construction\") |\n",
    "                        (lego_frame_full[\"Theme\"] == \"Airport\")]"
   ]
  },
  {
   "cell_type": "code",
   "execution_count": 21,
   "metadata": {},
   "outputs": [
    {
     "data": {
      "text/html": [
       "<div>\n",
       "<style>\n",
       "    .dataframe thead tr:only-child th {\n",
       "        text-align: right;\n",
       "    }\n",
       "\n",
       "    .dataframe thead th {\n",
       "        text-align: left;\n",
       "    }\n",
       "\n",
       "    .dataframe tbody tr th {\n",
       "        vertical-align: top;\n",
       "    }\n",
       "</style>\n",
       "<table border=\"1\" class=\"dataframe\">\n",
       "  <thead>\n",
       "    <tr style=\"text-align: right;\">\n",
       "      <th></th>\n",
       "      <th>Set Num</th>\n",
       "      <th>Set Name</th>\n",
       "      <th>Theme</th>\n",
       "      <th>Year</th>\n",
       "      <th>Num Parts</th>\n",
       "      <th>[No Color]</th>\n",
       "      <th>Aqua</th>\n",
       "      <th>Black</th>\n",
       "      <th>Blue</th>\n",
       "      <th>Blue-Violet</th>\n",
       "      <th>...</th>\n",
       "      <th>Trans-Very Lt Blue</th>\n",
       "      <th>Trans-Yellow</th>\n",
       "      <th>Unknown</th>\n",
       "      <th>Very Light Bluish Gray</th>\n",
       "      <th>Very Light Gray</th>\n",
       "      <th>Very Light Orange</th>\n",
       "      <th>Violet</th>\n",
       "      <th>White</th>\n",
       "      <th>Yellow</th>\n",
       "      <th>Yellowish Green</th>\n",
       "    </tr>\n",
       "  </thead>\n",
       "  <tbody>\n",
       "    <tr>\n",
       "      <th>4</th>\n",
       "      <td>2823692</td>\n",
       "      <td>Simple and Motorized Machines Activity Pack</td>\n",
       "      <td>Technic</td>\n",
       "      <td>1997</td>\n",
       "      <td>24</td>\n",
       "      <td>24.0</td>\n",
       "      <td>0.0</td>\n",
       "      <td>0.0</td>\n",
       "      <td>0.0</td>\n",
       "      <td>0.0</td>\n",
       "      <td>...</td>\n",
       "      <td>0.0</td>\n",
       "      <td>0.0</td>\n",
       "      <td>0.0</td>\n",
       "      <td>0.0</td>\n",
       "      <td>0.0</td>\n",
       "      <td>0.0</td>\n",
       "      <td>0.0</td>\n",
       "      <td>0.0</td>\n",
       "      <td>0.0</td>\n",
       "      <td>0.0</td>\n",
       "    </tr>\n",
       "    <tr>\n",
       "      <th>8</th>\n",
       "      <td>2818944</td>\n",
       "      <td>Structures Set</td>\n",
       "      <td>Technic</td>\n",
       "      <td>1997</td>\n",
       "      <td>439</td>\n",
       "      <td>20.0</td>\n",
       "      <td>0.0</td>\n",
       "      <td>116.0</td>\n",
       "      <td>56.0</td>\n",
       "      <td>0.0</td>\n",
       "      <td>...</td>\n",
       "      <td>0.0</td>\n",
       "      <td>0.0</td>\n",
       "      <td>0.0</td>\n",
       "      <td>0.0</td>\n",
       "      <td>0.0</td>\n",
       "      <td>0.0</td>\n",
       "      <td>0.0</td>\n",
       "      <td>0.0</td>\n",
       "      <td>0.0</td>\n",
       "      <td>0.0</td>\n",
       "    </tr>\n",
       "    <tr>\n",
       "      <th>10</th>\n",
       "      <td>2814926</td>\n",
       "      <td>Technology Activity Set</td>\n",
       "      <td>Technic</td>\n",
       "      <td>1994</td>\n",
       "      <td>318</td>\n",
       "      <td>17.0</td>\n",
       "      <td>0.0</td>\n",
       "      <td>92.0</td>\n",
       "      <td>2.0</td>\n",
       "      <td>0.0</td>\n",
       "      <td>...</td>\n",
       "      <td>0.0</td>\n",
       "      <td>0.0</td>\n",
       "      <td>0.0</td>\n",
       "      <td>0.0</td>\n",
       "      <td>0.0</td>\n",
       "      <td>0.0</td>\n",
       "      <td>0.0</td>\n",
       "      <td>2.0</td>\n",
       "      <td>1.0</td>\n",
       "      <td>0.0</td>\n",
       "    </tr>\n",
       "  </tbody>\n",
       "</table>\n",
       "<p>3 rows × 136 columns</p>\n",
       "</div>"
      ],
      "text/plain": [
       "    Set Num                                     Set Name    Theme  Year  \\\n",
       "4   2823692  Simple and Motorized Machines Activity Pack  Technic  1997   \n",
       "8   2818944                               Structures Set  Technic  1997   \n",
       "10  2814926                      Technology Activity Set  Technic  1994   \n",
       "\n",
       "    Num Parts  [No Color]  Aqua  Black  Blue  Blue-Violet       ...         \\\n",
       "4          24        24.0   0.0    0.0   0.0          0.0       ...          \n",
       "8         439        20.0   0.0  116.0  56.0          0.0       ...          \n",
       "10        318        17.0   0.0   92.0   2.0          0.0       ...          \n",
       "\n",
       "    Trans-Very Lt Blue  Trans-Yellow  Unknown  Very Light Bluish Gray  \\\n",
       "4                  0.0           0.0      0.0                     0.0   \n",
       "8                  0.0           0.0      0.0                     0.0   \n",
       "10                 0.0           0.0      0.0                     0.0   \n",
       "\n",
       "    Very Light Gray  Very Light Orange  Violet  White  Yellow  Yellowish Green  \n",
       "4               0.0                0.0     0.0    0.0     0.0              0.0  \n",
       "8               0.0                0.0     0.0    0.0     0.0              0.0  \n",
       "10              0.0                0.0     0.0    2.0     1.0              0.0  \n",
       "\n",
       "[3 rows x 136 columns]"
      ]
     },
     "execution_count": 21,
     "metadata": {},
     "output_type": "execute_result"
    }
   ],
   "source": [
    "lego_frame.head(3)"
   ]
  },
  {
   "cell_type": "markdown",
   "metadata": {},
   "source": [
    "Some potentially useful refactorings of the data."
   ]
  },
  {
   "cell_type": "code",
   "execution_count": 22,
   "metadata": {},
   "outputs": [
    {
     "data": {
      "text/html": [
       "<div>\n",
       "<style>\n",
       "    .dataframe thead tr:only-child th {\n",
       "        text-align: right;\n",
       "    }\n",
       "\n",
       "    .dataframe thead th {\n",
       "        text-align: left;\n",
       "    }\n",
       "\n",
       "    .dataframe tbody tr th {\n",
       "        vertical-align: top;\n",
       "    }\n",
       "</style>\n",
       "<table border=\"1\" class=\"dataframe\">\n",
       "  <thead>\n",
       "    <tr style=\"text-align: right;\">\n",
       "      <th></th>\n",
       "      <th>[No Color]</th>\n",
       "      <th>Aqua</th>\n",
       "      <th>Black</th>\n",
       "      <th>Blue</th>\n",
       "      <th>Blue-Violet</th>\n",
       "      <th>Bright Green</th>\n",
       "      <th>Bright Light Blue</th>\n",
       "      <th>Bright Light Orange</th>\n",
       "      <th>Bright Light Yellow</th>\n",
       "      <th>Bright Pink</th>\n",
       "      <th>...</th>\n",
       "      <th>Very Light Orange</th>\n",
       "      <th>Violet</th>\n",
       "      <th>White</th>\n",
       "      <th>Yellow</th>\n",
       "      <th>Yellowish Green</th>\n",
       "      <th>Year</th>\n",
       "      <th>Set Name</th>\n",
       "      <th>Set Num</th>\n",
       "      <th>Theme</th>\n",
       "      <th>Num Parts</th>\n",
       "    </tr>\n",
       "  </thead>\n",
       "  <tbody>\n",
       "    <tr>\n",
       "      <th>4</th>\n",
       "      <td>1.000000</td>\n",
       "      <td>0.0</td>\n",
       "      <td>0.000000</td>\n",
       "      <td>0.000000</td>\n",
       "      <td>0.0</td>\n",
       "      <td>0.0</td>\n",
       "      <td>0.0</td>\n",
       "      <td>0.0</td>\n",
       "      <td>0.0</td>\n",
       "      <td>0.0</td>\n",
       "      <td>...</td>\n",
       "      <td>0.0</td>\n",
       "      <td>0.0</td>\n",
       "      <td>0.000000</td>\n",
       "      <td>0.000000</td>\n",
       "      <td>0.0</td>\n",
       "      <td>1997</td>\n",
       "      <td>Simple and Motorized Machines Activity Pack</td>\n",
       "      <td>2823692</td>\n",
       "      <td>Technic</td>\n",
       "      <td>24</td>\n",
       "    </tr>\n",
       "    <tr>\n",
       "      <th>8</th>\n",
       "      <td>0.045558</td>\n",
       "      <td>0.0</td>\n",
       "      <td>0.264237</td>\n",
       "      <td>0.127563</td>\n",
       "      <td>0.0</td>\n",
       "      <td>0.0</td>\n",
       "      <td>0.0</td>\n",
       "      <td>0.0</td>\n",
       "      <td>0.0</td>\n",
       "      <td>0.0</td>\n",
       "      <td>...</td>\n",
       "      <td>0.0</td>\n",
       "      <td>0.0</td>\n",
       "      <td>0.000000</td>\n",
       "      <td>0.000000</td>\n",
       "      <td>0.0</td>\n",
       "      <td>1997</td>\n",
       "      <td>Structures Set</td>\n",
       "      <td>2818944</td>\n",
       "      <td>Technic</td>\n",
       "      <td>439</td>\n",
       "    </tr>\n",
       "    <tr>\n",
       "      <th>10</th>\n",
       "      <td>0.051360</td>\n",
       "      <td>0.0</td>\n",
       "      <td>0.277946</td>\n",
       "      <td>0.006042</td>\n",
       "      <td>0.0</td>\n",
       "      <td>0.0</td>\n",
       "      <td>0.0</td>\n",
       "      <td>0.0</td>\n",
       "      <td>0.0</td>\n",
       "      <td>0.0</td>\n",
       "      <td>...</td>\n",
       "      <td>0.0</td>\n",
       "      <td>0.0</td>\n",
       "      <td>0.006042</td>\n",
       "      <td>0.003021</td>\n",
       "      <td>0.0</td>\n",
       "      <td>1994</td>\n",
       "      <td>Technology Activity Set</td>\n",
       "      <td>2814926</td>\n",
       "      <td>Technic</td>\n",
       "      <td>318</td>\n",
       "    </tr>\n",
       "  </tbody>\n",
       "</table>\n",
       "<p>3 rows × 136 columns</p>\n",
       "</div>"
      ],
      "text/plain": [
       "    [No Color]  Aqua     Black      Blue  Blue-Violet  Bright Green  \\\n",
       "4     1.000000   0.0  0.000000  0.000000          0.0           0.0   \n",
       "8     0.045558   0.0  0.264237  0.127563          0.0           0.0   \n",
       "10    0.051360   0.0  0.277946  0.006042          0.0           0.0   \n",
       "\n",
       "    Bright Light Blue  Bright Light Orange  Bright Light Yellow  Bright Pink  \\\n",
       "4                 0.0                  0.0                  0.0          0.0   \n",
       "8                 0.0                  0.0                  0.0          0.0   \n",
       "10                0.0                  0.0                  0.0          0.0   \n",
       "\n",
       "      ...      Very Light Orange  Violet     White    Yellow  Yellowish Green  \\\n",
       "4     ...                    0.0     0.0  0.000000  0.000000              0.0   \n",
       "8     ...                    0.0     0.0  0.000000  0.000000              0.0   \n",
       "10    ...                    0.0     0.0  0.006042  0.003021              0.0   \n",
       "\n",
       "    Year                                     Set Name  Set Num    Theme  \\\n",
       "4   1997  Simple and Motorized Machines Activity Pack  2823692  Technic   \n",
       "8   1997                               Structures Set  2818944  Technic   \n",
       "10  1994                      Technology Activity Set  2814926  Technic   \n",
       "\n",
       "    Num Parts  \n",
       "4          24  \n",
       "8         439  \n",
       "10        318  \n",
       "\n",
       "[3 rows x 136 columns]"
      ]
     },
     "execution_count": 22,
     "metadata": {},
     "output_type": "execute_result"
    }
   ],
   "source": [
    "# Creates a copy of the dataframe where color counts are normalized \n",
    "#  so each gives the % of parts in the set with that color, rather than the total count.\n",
    "norm_lego = lego_frame.copy()\n",
    "norm_lego = norm_lego.drop([ 'Set Name', 'Set Num', 'Theme', 'Year', 'Num Parts'], axis=1)\n",
    "norm_lego = norm_lego.div(norm_lego.sum(axis=1), axis=0)\n",
    "\n",
    "# A list of all the color name columns\n",
    "color_cols = norm_lego.columns\n",
    "# A list of all the other numeric columns\n",
    "other_cols = [\"Year\", \"Num Parts\"]\n",
    "\n",
    "# Add back the non-numeric columns to the normalized table\n",
    "norm_lego[\"Year\"] = lego_frame[\"Year\"]\n",
    "norm_lego[\"Set Name\"] = lego_frame[\"Set Name\"]\n",
    "norm_lego[\"Set Num\"] = lego_frame[\"Set Num\"]\n",
    "norm_lego[\"Theme\"] = lego_frame[\"Theme\"]\n",
    "norm_lego[\"Num Parts\"] = lego_frame[\"Num Parts\"]\n",
    "norm_lego.head(3)"
   ]
  },
  {
   "cell_type": "code",
   "execution_count": 6,
   "metadata": {},
   "outputs": [
    {
     "data": {
      "text/plain": [
       "Index(['[No Color]', 'Aqua', 'Black', 'Blue', 'Blue-Violet', 'Bright Green',\n",
       "       'Bright Light Blue', 'Bright Light Orange', 'Bright Light Yellow',\n",
       "       'Bright Pink',\n",
       "       ...\n",
       "       'Trans-Very Lt Blue', 'Trans-Yellow', 'Unknown',\n",
       "       'Very Light Bluish Gray', 'Very Light Gray', 'Very Light Orange',\n",
       "       'Violet', 'White', 'Yellow', 'Yellowish Green'],\n",
       "      dtype='object', length=131)"
      ]
     },
     "execution_count": 6,
     "metadata": {},
     "output_type": "execute_result"
    }
   ],
   "source": [
    "color_cols # The complete list of color columns"
   ]
  },
  {
   "cell_type": "markdown",
   "metadata": {},
   "source": [
    "## Training and Test Splits\n",
    "Make sure you don't accidentally test on your training data."
   ]
  },
  {
   "cell_type": "code",
   "execution_count": 64,
   "metadata": {},
   "outputs": [],
   "source": [
    "# Generate test and training sets\n",
    "from sklearn.model_selection import train_test_split\n",
    "\n",
    "ynp_train, ynp_test, theme_train, theme_test = sk.model_selection.train_test_split(\n",
    "    lego_frame[color_cols],lego_frame['Theme'], test_size=0.4)"
   ]
  },
  {
   "cell_type": "markdown",
   "metadata": {},
   "source": [
    "## k-Nearest Neighbors"
   ]
  },
  {
   "cell_type": "code",
   "execution_count": 65,
   "metadata": {},
   "outputs": [
    {
     "data": {
      "text/plain": [
       "KNeighborsClassifier(algorithm='auto', leaf_size=30, metric='minkowski',\n",
       "           metric_params=None, n_jobs=1, n_neighbors=4, p=2,\n",
       "           weights='uniform')"
      ]
     },
     "execution_count": 65,
     "metadata": {},
     "output_type": "execute_result"
    }
   ],
   "source": [
    "from sklearn.neighbors import KNeighborsClassifier\n",
    "\n",
    "# Be sure to look at the available parameters on each classifier.\n",
    "# For example, you might want to experiment with the number of neighbours here. \n",
    "n=4   \n",
    "lego_knn = KNeighborsClassifier(n_neighbors=n)\n",
    "lego_knn.fit(ynp_train, theme_train) #TODO — substitute in your own training data"
   ]
  },
  {
   "cell_type": "code",
   "execution_count": 66,
   "metadata": {},
   "outputs": [
    {
     "data": {
      "text/plain": [
       "array(['Construction', 'Ninjago', 'Star Wars', 'Airport', 'Airport',\n",
       "       'Friends', 'City', 'City', 'Airport', 'Ninjago', 'Creator',\n",
       "       'Technic', 'Airport', 'Basic Set', 'City', 'Construction',\n",
       "       'Creator', 'Creator', 'City', 'Technic', 'Technic', 'Friends',\n",
       "       'Technic', 'Duplo', 'Star Wars', 'Friends', 'Technic', 'Technic',\n",
       "       'Star Wars', 'Ninjago', 'Technic', 'Airport', 'City', 'Technic',\n",
       "       'Star Wars', 'Technic', 'Construction', 'City', 'Airport',\n",
       "       'Technic', 'Technic', 'Technic', 'Friends', 'Star Wars', 'Technic',\n",
       "       'City', 'Airport', 'Friends', 'City', 'Basic Set', 'City',\n",
       "       'Star Wars', 'City', 'Duplo', 'Construction', 'Airport',\n",
       "       'Star Wars', 'Technic', 'Construction', 'Technic', 'Basic Set',\n",
       "       'Duplo', 'Construction', 'Technic', 'Technic', 'Construction',\n",
       "       'Friends', 'Duplo', 'Technic', 'Construction', 'Star Wars', 'City',\n",
       "       'Construction', 'City', 'Technic', 'Airport', 'Construction',\n",
       "       'Construction', 'Ninjago', 'City', 'Duplo', 'Star Wars',\n",
       "       'Basic Set', 'City', 'Technic', 'Star Wars', 'City', 'Construction',\n",
       "       'City', 'City', 'City', 'Basic Set', 'Creator', 'Friends',\n",
       "       'Airport', 'Friends', 'Construction', 'Friends', 'Ninjago',\n",
       "       'Basic Set', 'Airport', 'Star Wars', 'Basic Set', 'City', 'Technic',\n",
       "       'City', 'Construction', 'Star Wars', 'Technic', 'City', 'Duplo',\n",
       "       'Duplo', 'Technic', 'Basic Set', 'Technic', 'Friends', 'City',\n",
       "       'Ninjago', 'Creator', 'Star Wars', 'Technic', 'Friends',\n",
       "       'Star Wars', 'Star Wars', 'Technic', 'Technic', 'Basic Set',\n",
       "       'Technic', 'Technic', 'Technic', 'Ninjago', 'Friends', 'City',\n",
       "       'Technic', 'Ninjago', 'City', 'Friends', 'Technic', 'City',\n",
       "       'Basic Set', 'Basic Set', 'Star Wars', 'Basic Set', 'Basic Set',\n",
       "       'Duplo', 'Technic', 'Technic', 'Friends', 'Technic', 'Star Wars',\n",
       "       'City', 'Technic', 'Basic Set', 'Technic', 'Basic Set', 'Basic Set',\n",
       "       'Technic', 'City', 'Basic Set', 'Technic', 'Basic Set', 'Airport',\n",
       "       'Airport', 'Technic', 'Technic', 'Duplo', 'Airport', 'Airport',\n",
       "       'City', 'City', 'Friends', 'Duplo', 'City', 'Friends', 'Duplo',\n",
       "       'Technic', 'Airport', 'Basic Set', 'Technic', 'Basic Set',\n",
       "       'Friends', 'Creator', 'Basic Set', 'Creator', 'City', 'Creator',\n",
       "       'City', 'Star Wars', 'City', 'City', 'Technic', 'Basic Set',\n",
       "       'Basic Set', 'Technic', 'Construction', 'Technic', 'Airport',\n",
       "       'Construction', 'Basic Set', 'Star Wars', 'Friends', 'Technic',\n",
       "       'Basic Set', 'Technic', 'Construction', 'Construction', 'Technic',\n",
       "       'Technic', 'Airport', 'Airport', 'Technic', 'Duplo', 'Friends',\n",
       "       'Technic', 'Airport', 'Basic Set', 'Technic', 'City', 'Technic',\n",
       "       'Friends', 'Airport', 'Technic', 'Creator', 'Creator', 'Airport',\n",
       "       'Star Wars', 'Construction', 'Star Wars', 'Basic Set', 'Technic',\n",
       "       'Basic Set', 'Airport', 'Creator', 'Friends', 'Basic Set', 'Duplo',\n",
       "       'Duplo', 'City', 'Friends', 'Construction', 'Construction',\n",
       "       'Technic', 'Construction', 'Duplo', 'Friends', 'Star Wars',\n",
       "       'Technic', 'Creator', 'Friends', 'Technic', 'Star Wars', 'Friends',\n",
       "       'Airport', 'Ninjago', 'Technic', 'City', 'Technic', 'Star Wars',\n",
       "       'Technic', 'City', 'Basic Set', 'Creator', 'Creator', 'Airport',\n",
       "       'Construction', 'Friends', 'Friends', 'Friends', 'City',\n",
       "       'Basic Set', 'Technic', 'Technic', 'City', 'Construction',\n",
       "       'Friends', 'Technic', 'Basic Set', 'Star Wars', 'Technic',\n",
       "       'Creator', 'City', 'Construction', 'Basic Set', 'Construction',\n",
       "       'Airport', 'Creator', 'Creator', 'Duplo', 'Construction', 'Technic',\n",
       "       'Technic', 'Creator', 'Airport', 'Technic', 'Technic', 'Airport',\n",
       "       'Construction', 'Friends', 'Airport', 'Creator', 'Star Wars',\n",
       "       'Ninjago', 'Basic Set', 'Technic', 'Technic', 'Airport',\n",
       "       'Basic Set', 'Technic', 'City', 'City', 'Technic', 'City',\n",
       "       'Basic Set', 'Construction', 'Construction', 'Friends', 'Friends',\n",
       "       'Technic', 'Star Wars', 'City', 'Duplo', 'City', 'Friends',\n",
       "       'Construction', 'City', 'City', 'Technic', 'Star Wars', 'Basic Set',\n",
       "       'City', 'Technic', 'Technic', 'City', 'City', 'Duplo', 'Technic',\n",
       "       'Technic', 'Basic Set', 'Basic Set', 'Creator', 'Construction',\n",
       "       'City', 'Creator', 'Construction', 'Basic Set', 'Friends',\n",
       "       'Technic', 'Basic Set', 'Duplo', 'City', 'Creator', 'Basic Set',\n",
       "       'Construction', 'City', 'Friends', 'Technic', 'Ninjago',\n",
       "       'Basic Set', 'Creator', 'Basic Set', 'Star Wars', 'Basic Set',\n",
       "       'Ninjago', 'Star Wars', 'Star Wars', 'City', 'Duplo', 'City',\n",
       "       'Creator', 'Construction', 'Construction', 'Friends', 'Airport',\n",
       "       'Duplo', 'City', 'Technic', 'City', 'Technic', 'Basic Set',\n",
       "       'Basic Set', 'Creator', 'City', 'Airport', 'Airport', 'Technic',\n",
       "       'City', 'Technic', 'Duplo', 'Basic Set', 'Ninjago', 'Creator',\n",
       "       'Technic', 'Basic Set', 'Technic', 'Airport', 'Ninjago', 'Airport',\n",
       "       'Technic', 'Star Wars', 'Ninjago', 'Technic', 'Airport', 'Ninjago',\n",
       "       'Star Wars', 'Airport', 'City', 'Airport', 'City', 'Technic',\n",
       "       'Friends', 'Airport', 'Basic Set', 'Duplo', 'Construction', 'City',\n",
       "       'Friends', 'Basic Set', 'Airport', 'Basic Set', 'Star Wars',\n",
       "       'Star Wars', 'Airport', 'City', 'City', 'Ninjago', 'Basic Set',\n",
       "       'Friends', 'Airport', 'City', 'Airport', 'Construction',\n",
       "       'Basic Set', 'Technic', 'Creator', 'Star Wars', 'Ninjago', 'City',\n",
       "       'Friends', 'City', 'Technic', 'City', 'Technic', 'Basic Set',\n",
       "       'Airport', 'Basic Set', 'Friends', 'City', 'Duplo', 'Friends',\n",
       "       'Technic', 'City', 'Airport', 'City', 'Creator', 'Creator', 'Duplo',\n",
       "       'Friends', 'Ninjago', 'Airport', 'Creator', 'Creator', 'Technic',\n",
       "       'City', 'Technic', 'City', 'Friends', 'Construction', 'City',\n",
       "       'Construction', 'Star Wars', 'Basic Set', 'City', 'Airport',\n",
       "       'Technic', 'Friends', 'Duplo', 'Ninjago', 'Technic', 'Technic',\n",
       "       'Technic', 'City', 'Creator', 'Technic', 'Airport', 'Airport',\n",
       "       'Technic', 'Technic', 'Basic Set', 'Ninjago', 'Technic', 'Airport',\n",
       "       'Technic', 'Basic Set', 'Construction', 'Creator', 'Airport',\n",
       "       'Airport', 'Basic Set', 'Basic Set', 'Creator', 'City', 'Friends',\n",
       "       'Basic Set', 'Technic', 'City', 'Technic', 'Friends', 'Airport',\n",
       "       'Construction', 'Star Wars', 'Airport', 'Ninjago', 'City', 'Duplo',\n",
       "       'Basic Set', 'Basic Set', 'City', 'Duplo', 'Technic', 'Creator',\n",
       "       'Technic', 'Friends', 'Creator', 'Technic', 'Friends', 'Airport',\n",
       "       'Ninjago', 'Technic', 'Technic', 'City', 'Construction', 'Creator',\n",
       "       'City', 'Ninjago', 'City', 'Duplo', 'Technic', 'Creator',\n",
       "       'Basic Set', 'Creator', 'Creator', 'Technic', 'Duplo', 'Airport',\n",
       "       'Duplo', 'Duplo', 'City', 'Technic', 'Star Wars', 'Construction',\n",
       "       'City', 'Technic', 'Duplo', 'Technic', 'Airport', 'Technic',\n",
       "       'Duplo', 'City', 'Technic', 'Technic', 'Friends', 'Airport',\n",
       "       'Technic', 'Star Wars', 'Construction', 'Friends', 'Construction',\n",
       "       'Creator', 'Airport', 'Ninjago', 'Technic', 'Duplo', 'Creator',\n",
       "       'Airport', 'City', 'Creator', 'City', 'Duplo', 'Creator', 'Airport',\n",
       "       'Friends', 'Technic', 'Creator', 'Airport', 'Creator', 'Airport',\n",
       "       'Technic', 'Creator', 'City', 'Airport', 'Airport', 'Ninjago',\n",
       "       'Basic Set', 'Basic Set', 'Star Wars', 'Star Wars', 'City',\n",
       "       'Creator', 'Star Wars', 'Friends', 'Creator', 'Basic Set',\n",
       "       'Friends', 'Duplo', 'City', 'Creator', 'Duplo', 'Construction',\n",
       "       'Construction', 'Creator', 'Technic', 'Creator', 'Basic Set',\n",
       "       'City', 'Basic Set', 'Construction', 'Airport', 'Basic Set',\n",
       "       'Construction', 'City', 'Airport', 'Basic Set', 'City', 'City',\n",
       "       'Airport', 'Friends', 'Duplo', 'Duplo', 'Technic', 'Airport',\n",
       "       'Construction', 'Airport', 'Construction', 'Airport', 'Duplo',\n",
       "       'Basic Set', 'Technic', 'Duplo', 'City', 'Basic Set', 'Duplo',\n",
       "       'Star Wars', 'Ninjago', 'Construction', 'Star Wars', 'City', 'City',\n",
       "       'Airport', 'Technic', 'Creator', 'Airport', 'City', 'Technic',\n",
       "       'City', 'Basic Set', 'Airport', 'Ninjago', 'Technic', 'Technic',\n",
       "       'Airport', 'Ninjago', 'Technic', 'Airport', 'Technic', 'Friends',\n",
       "       'City', 'Star Wars', 'Construction', 'Technic', 'Basic Set',\n",
       "       'Creator', 'City', 'Friends', 'Airport', 'Basic Set', 'Friends',\n",
       "       'Duplo', 'Technic', 'City', 'Basic Set', 'Construction', 'Creator',\n",
       "       'Basic Set', 'Technic', 'Basic Set', 'Technic', 'City', 'Friends',\n",
       "       'Technic', 'Airport', 'Star Wars', 'Creator', 'Duplo', 'Basic Set',\n",
       "       'Technic', 'Ninjago', 'Airport', 'Construction', 'Creator', 'City',\n",
       "       'City', 'Creator', 'Construction', 'Construction', 'City', 'Duplo',\n",
       "       'Construction', 'Construction', 'Technic', 'Star Wars', 'City',\n",
       "       'City', 'Duplo', 'Basic Set', 'City', 'Technic', 'Basic Set',\n",
       "       'Basic Set', 'Technic', 'Star Wars', 'Airport', 'Construction',\n",
       "       'Star Wars', 'City', 'City', 'Basic Set', 'Friends', 'Duplo',\n",
       "       'City', 'Construction', 'City', 'Technic', 'Duplo', 'City',\n",
       "       'Basic Set', 'Construction', 'Airport', 'Airport', 'Technic',\n",
       "       'Duplo', 'Basic Set', 'Technic', 'Technic', 'Construction',\n",
       "       'Ninjago', 'Duplo', 'Construction', 'City', 'Star Wars', 'Ninjago',\n",
       "       'Ninjago', 'Technic', 'Technic', 'City', 'City', 'Friends',\n",
       "       'Construction', 'Airport', 'Technic', 'City', 'City', 'Airport',\n",
       "       'Friends', 'Technic', 'Duplo', 'Friends', 'Airport', 'Construction',\n",
       "       'Airport', 'Creator', 'Technic', 'City', 'Construction', 'Airport',\n",
       "       'Construction', 'Basic Set', 'Technic', 'City', 'Technic',\n",
       "       'Technic', 'Basic Set', 'Creator', 'City', 'Airport', 'Star Wars',\n",
       "       'Duplo', 'Basic Set', 'Star Wars', 'City', 'Creator', 'City',\n",
       "       'Star Wars', 'Airport', 'Technic', 'Creator', 'City', 'Friends',\n",
       "       'Basic Set', 'Creator', 'Airport', 'City', 'Technic',\n",
       "       'Construction', 'Basic Set', 'Duplo', 'Friends', 'City', 'Technic',\n",
       "       'Technic', 'Ninjago', 'Star Wars', 'Technic', 'Duplo', 'Technic',\n",
       "       'Ninjago', 'Star Wars', 'Ninjago', 'Airport', 'Construction',\n",
       "       'City', 'Technic', 'Technic', 'Airport', 'City', 'Basic Set',\n",
       "       'City', 'Basic Set', 'Technic', 'Basic Set', 'Technic', 'City',\n",
       "       'Technic', 'City', 'Airport', 'Technic', 'Ninjago', 'Star Wars',\n",
       "       'Creator', 'City', 'City', 'City', 'Basic Set', 'Basic Set',\n",
       "       'Duplo', 'Airport', 'Friends', 'Technic', 'Basic Set', 'Basic Set',\n",
       "       'Basic Set', 'Technic', 'City', 'Technic', 'Creator', 'Duplo',\n",
       "       'Creator', 'City', 'City', 'Basic Set', 'Ninjago', 'City', 'City',\n",
       "       'Airport', 'Friends', 'Basic Set', 'Airport', 'Technic',\n",
       "       'Basic Set', 'Airport', 'Basic Set', 'Duplo', 'Ninjago', 'Creator',\n",
       "       'City', 'Airport', 'Construction', 'Construction', 'Technic',\n",
       "       'Creator', 'Technic', 'Technic', 'Creator', 'City', 'Technic',\n",
       "       'Friends', 'Basic Set', 'Construction', 'Creator', 'Technic',\n",
       "       'Construction', 'Creator', 'Airport', 'City', 'Ninjago', 'City',\n",
       "       'Creator', 'Technic', 'City', 'Basic Set', 'City', 'Duplo',\n",
       "       'Basic Set', 'City', 'City', 'Construction', 'Duplo', 'Technic',\n",
       "       'City', 'Creator', 'City', 'Construction', 'Ninjago', 'Technic',\n",
       "       'Friends', 'Technic', 'Technic', 'City', 'Technic', 'Basic Set',\n",
       "       'Creator', 'Creator', 'Airport', 'Duplo', 'Creator', 'Friends',\n",
       "       'Technic', 'Basic Set', 'Star Wars', 'Ninjago', 'Star Wars',\n",
       "       'Friends', 'City', 'Technic', 'Basic Set', 'Airport', 'Technic',\n",
       "       'Technic', 'Ninjago', 'Technic', 'Star Wars', 'Technic', 'Technic',\n",
       "       'Basic Set', 'City', 'Technic', 'Basic Set', 'Star Wars', 'City',\n",
       "       'Star Wars', 'Technic', 'Airport', 'Basic Set', 'Airport',\n",
       "       'Creator', 'City', 'City'], dtype=object)"
      ]
     },
     "execution_count": 66,
     "metadata": {},
     "output_type": "execute_result"
    }
   ],
   "source": [
    "lego_knn_predictions = lego_knn.predict(ynp_test) #TODO — substitute in your own test data\n",
    "lego_knn_predictions"
   ]
  },
  {
   "cell_type": "markdown",
   "metadata": {},
   "source": [
    "## Naive Bayes"
   ]
  },
  {
   "cell_type": "code",
   "execution_count": 67,
   "metadata": {
    "collapsed": true
   },
   "outputs": [],
   "source": [
    "from sklearn.naive_bayes import GaussianNB"
   ]
  },
  {
   "cell_type": "code",
   "execution_count": 68,
   "metadata": {
    "collapsed": true
   },
   "outputs": [],
   "source": [
    "def plot_class(df, classifier, npts=500): #500x500 points will look smooth but take a few seconds\n",
    "    xx,yy=np.meshgrid(np.linspace(df['Year'].min()-10,df['Num Parts'].max()+10,num=npts), \n",
    "                      np.linspace(df['Year'].min()-4,df['Num Parts'].max()+4,num=npts))\n",
    "    Zstring = classifier.predict(np.c_[xx.ravel(), yy.ravel()])\n",
    "    repdict = {\"Technic\":1, \"Friends\":2,\"City\":3, \"Basic Set\":4, \"Creator\":5,\n",
    "                      \"Duplo\":6, \"Star Wars\":7, \"Ninjago\":8,\"Construction\":9, \"Airport\":10}\n",
    "    Z = np.zeros_like(Zstring)\n",
    "    for k,v in repdict.items():\n",
    "        Z[Zstring==k]=v\n",
    "    Z = Z.reshape(xx.shape)\n",
    "    plt.contourf(xx, yy, Z, cmap=plt.cm.get_cmap('RdBu',6),vmin=0,vmax=5)\n",
    "    plt.xlabel('Year');plt.ylabel('Num Parts')\n",
    "    cbar = plt.colorbar(ticks=[1,2,3,4,5])\n",
    "    cbar.ax.set_yticklabels([\"Technic\", \"Friends\",\"City\", \"Basic Set\", \"Creator\",\n",
    "                      \"Duplo\", \"Star Wars\", \"Ninjago\",\"Construction\", \"Airport\"])\n",
    "    plt.scatter(df['Year'],df['Num Parts'], color=\"black\",alpha=0.2)"
   ]
  },
  {
   "cell_type": "code",
   "execution_count": 69,
   "metadata": {},
   "outputs": [],
   "source": [
    "\n",
    "lego_gnb = GaussianNB().fit(ynp_train, theme_train)\n",
    "lego_gnb_predictions = lego_gnb.predict(ynp_test)\n",
    "#plot_class(lego_frame,lego_gnb)"
   ]
  },
  {
   "cell_type": "code",
   "execution_count": 70,
   "metadata": {},
   "outputs": [
    {
     "data": {
      "text/plain": [
       "0.43305439330543932"
      ]
     },
     "execution_count": 70,
     "metadata": {},
     "output_type": "execute_result"
    }
   ],
   "source": [
    "#Accuracy\n",
    "skm.accuracy_score(y_true=theme_test,\n",
    "                   y_pred=lego_gnb_predictions)"
   ]
  },
  {
   "cell_type": "code",
   "execution_count": 71,
   "metadata": {},
   "outputs": [
    {
     "data": {
      "text/plain": [
       "0.46767095405079628"
      ]
     },
     "execution_count": 71,
     "metadata": {},
     "output_type": "execute_result"
    }
   ],
   "source": [
    "# Precision\n",
    "skm.precision_score(y_true=theme_test,\n",
    "                    y_pred=lego_gnb_predictions,\n",
    "                    average='weighted')"
   ]
  },
  {
   "cell_type": "code",
   "execution_count": 72,
   "metadata": {},
   "outputs": [
    {
     "data": {
      "text/plain": [
       "0.43305439330543932"
      ]
     },
     "execution_count": 72,
     "metadata": {},
     "output_type": "execute_result"
    }
   ],
   "source": [
    "# Recall\n",
    "skm.recall_score(y_true=theme_test,\n",
    "                 y_pred=lego_gnb_predictions,\n",
    "                 average='weighted')"
   ]
  },
  {
   "cell_type": "code",
   "execution_count": 73,
   "metadata": {},
   "outputs": [
    {
     "data": {
      "text/plain": [
       "0.40253250673482138"
      ]
     },
     "execution_count": 73,
     "metadata": {},
     "output_type": "execute_result"
    }
   ],
   "source": [
    "# F1 Score\n",
    "skm.f1_score(y_true=theme_test,\n",
    "                 y_pred=lego_gnb_predictions,\n",
    "             average='weighted')"
   ]
  },
  {
   "cell_type": "code",
   "execution_count": 74,
   "metadata": {},
   "outputs": [
    {
     "data": {
      "text/plain": [
       "array([[ 33,   0,   5,   1,   1,   0,   0,   0,   2,  22],\n",
       "       [ 24,  10,   1,   6,  13,   7,   4,   1,   0,  30],\n",
       "       [  5,   1,  24,   3,   1,   0,   0,   1,   2,  74],\n",
       "       [  9,   0,   6,   7,   2,   0,   0,   0,   0,  52],\n",
       "       [ 21,   1,  20,   2,  13,   0,   5,   4,   3,  26],\n",
       "       [  1,   4,  10,   2,   5,  52,   3,   0,   1,  11],\n",
       "       [  0,   1,   9,   3,   0,  17,  71,   0,   1,   4],\n",
       "       [  0,   0,  18,   1,   2,   7,   1,  41,   5,   2],\n",
       "       [  5,   1,  24,   1,   1,   5,   1,   1,  18,  25],\n",
       "       [  1,   3,   2,   5,   2,   0,   0,   1,   1, 145]], dtype=int64)"
      ]
     },
     "execution_count": 74,
     "metadata": {},
     "output_type": "execute_result"
    }
   ],
   "source": [
    "# Compute the confusion matrix\n",
    "nba_neigh_cfmat = skm.confusion_matrix(\n",
    "    y_true=theme_test,\n",
    "                 y_pred=lego_gnb_predictions,)\n",
    "nba_neigh_cfmat"
   ]
  },
  {
   "cell_type": "code",
   "execution_count": 76,
   "metadata": {},
   "outputs": [
    {
     "data": {
      "text/plain": [
       "Text(0.5,1,'Confusion Matrix')"
      ]
     },
     "execution_count": 76,
     "metadata": {},
     "output_type": "execute_result"
    },
    {
     "data": {
      "image/png": "[encoded data removed]",
      "text/plain": [
       "<matplotlib.figure.Figure at 0x1d50db428d0>"
      ]
     },
     "metadata": {},
     "output_type": "display_data"
    }
   ],
   "source": [
    "# Visualize the confusion matrix\n",
    "sns.heatmap(nba_neigh_cfmat, \n",
    "            xticklabels=lego_gnb.classes_,\n",
    "            yticklabels=lego_gnb.classes_,\n",
    "            annot=True)\n",
    "plt.xlabel('predicted label')\n",
    "plt.ylabel('true label')\n",
    "plt.title('Confusion Matrix')\n"
   ]
  },
  {
   "cell_type": "markdown",
   "metadata": {},
   "source": [
    "## Decision Trees"
   ]
  },
  {
   "cell_type": "code",
   "execution_count": 12,
   "metadata": {
    "collapsed": true
   },
   "outputs": [],
   "source": [
    "from sklearn.tree import DecisionTreeClassifier"
   ]
  },
  {
   "cell_type": "code",
   "execution_count": 13,
   "metadata": {
    "collapsed": true
   },
   "outputs": [],
   "source": [
    "#TODO — Train and test"
   ]
  },
  {
   "cell_type": "markdown",
   "metadata": {},
   "source": [
    "#### Drawing a Decision Tree\n",
    "Rendering decision trees requires the graphviz package. You can install it from the terminal or command line using:\n",
    "> conda install python-graphviz"
   ]
  },
  {
   "cell_type": "code",
   "execution_count": 14,
   "metadata": {},
   "outputs": [
    {
     "ename": "NameError",
     "evalue": "name 'YOUR_CLASSIFIER' is not defined",
     "output_type": "error",
     "traceback": [
      "\u001b[1;31m---------------------------------------------------------------------------\u001b[0m",
      "\u001b[1;31mNameError\u001b[0m                                 Traceback (most recent call last)",
      "\u001b[1;32m<ipython-input-14-9fba96d7506f>\u001b[0m in \u001b[0;36m<module>\u001b[1;34m()\u001b[0m\n\u001b[0;32m      1\u001b[0m \u001b[1;32mimport\u001b[0m \u001b[0mgraphviz\u001b[0m\u001b[1;33m\u001b[0m\u001b[0m\n\u001b[1;32m----> 2\u001b[1;33m graph_data = sk.tree.export_graphviz(YOUR_CLASSIFIER, out_file=None,\n\u001b[0m\u001b[0;32m      3\u001b[0m                          \u001b[0mfeature_names\u001b[0m\u001b[1;33m=\u001b[0m\u001b[0mYOUR_FEATURE_NAMES\u001b[0m\u001b[1;33m,\u001b[0m\u001b[1;33m\u001b[0m\u001b[0m\n\u001b[0;32m      4\u001b[0m                          \u001b[0mclass_names\u001b[0m\u001b[1;33m=\u001b[0m\u001b[0mYOUR_CLASS_NAMES\u001b[0m\u001b[1;33m,\u001b[0m\u001b[1;33m\u001b[0m\u001b[0m\n\u001b[0;32m      5\u001b[0m                          \u001b[0mfilled\u001b[0m\u001b[1;33m=\u001b[0m\u001b[1;32mTrue\u001b[0m\u001b[1;33m,\u001b[0m \u001b[0mrounded\u001b[0m\u001b[1;33m=\u001b[0m\u001b[1;32mTrue\u001b[0m\u001b[1;33m,\u001b[0m\u001b[1;33m\u001b[0m\u001b[0m\n",
      "\u001b[1;31mNameError\u001b[0m: name 'YOUR_CLASSIFIER' is not defined"
     ]
    }
   ],
   "source": [
    "import graphviz \n",
    "graph_data = sk.tree.export_graphviz(YOUR_CLASSIFIER, out_file=None,\n",
    "                         feature_names=YOUR_FEATURE_NAMES,  \n",
    "                         class_names=YOUR_CLASS_NAMES,  \n",
    "                         filled=True, rounded=True,  \n",
    "                         special_characters=True) \n",
    "graph = graphviz.Source(graph_data) \n",
    "graph\n",
    "\n",
    "# Or save out to a file using this command:\n",
    "# graph.render(\"decision_tree\") "
   ]
  },
  {
   "cell_type": "markdown",
   "metadata": {},
   "source": [
    "## Random Forest"
   ]
  },
  {
   "cell_type": "code",
   "execution_count": null,
   "metadata": {
    "collapsed": true
   },
   "outputs": [],
   "source": [
    "from sklearn.ensemble import RandomForestClassifier"
   ]
  },
  {
   "cell_type": "code",
   "execution_count": null,
   "metadata": {
    "collapsed": true
   },
   "outputs": [],
   "source": [
    "#TODO — Train and test"
   ]
  },
  {
   "cell_type": "markdown",
   "metadata": {},
   "source": [
    "## Neural Network"
   ]
  },
  {
   "cell_type": "code",
   "execution_count": null,
   "metadata": {
    "collapsed": true
   },
   "outputs": [],
   "source": [
    "from sklearn.neural_network import MLPClassifier"
   ]
  },
  {
   "cell_type": "code",
   "execution_count": null,
   "metadata": {
    "collapsed": true
   },
   "outputs": [],
   "source": [
    "#TODO — Train and test"
   ]
  },
  {
   "cell_type": "code",
   "execution_count": null,
   "metadata": {
    "collapsed": true
   },
   "outputs": [],
   "source": []
  }
 ],
 "metadata": {
  "kernelspec": {
   "display_name": "Python 3",
   "language": "python",
   "name": "python3"
  },
  "language_info": {
   "codemirror_mode": {
    "name": "ipython",
    "version": 3
   },
   "file_extension": ".py",
   "mimetype": "text/x-python",
   "name": "python",
   "nbconvert_exporter": "python",
   "pygments_lexer": "ipython3",
   "version": "3.6.3"
  }
 },
 "nbformat": 4,
 "nbformat_minor": 2
}

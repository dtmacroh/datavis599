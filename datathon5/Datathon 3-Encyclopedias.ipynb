{
 "cells": [
  {
   "cell_type": "code",
   "execution_count": 10,
   "metadata": {},
   "outputs": [
    {
     "name": "stdout",
     "output_type": "stream",
     "text": [
      "Using matplotlib backend: Qt5Agg\n",
      "Populating the interactive namespace from numpy and matplotlib\n"
     ]
    }
   ],
   "source": [
    "import numpy as np  #load up the libraries and object defs. we need\n",
    "import pandas as pd\n",
    "from pandas import DataFrame, Series\n",
    "\n",
    "# load up my visualization system, and call the object plt\n",
    "import matplotlib.pyplot as plt\n",
    "\n",
    "# tell ipython notebook to print visualizations inline\n",
    "%pylab\n",
    "%matplotlib inline"
   ]
  },
  {
   "cell_type": "markdown",
   "metadata": {},
   "source": [
    "For the Encyclopedia Sales dataset, "
   ]
  },
  {
   "cell_type": "code",
   "execution_count": 11,
   "metadata": {},
   "outputs": [
    {
     "data": {
      "text/html": [
       "<div>\n",
       "<style>\n",
       "    .dataframe thead tr:only-child th {\n",
       "        text-align: right;\n",
       "    }\n",
       "\n",
       "    .dataframe thead th {\n",
       "        text-align: left;\n",
       "    }\n",
       "\n",
       "    .dataframe tbody tr th {\n",
       "        vertical-align: top;\n",
       "    }\n",
       "</style>\n",
       "<table border=\"1\" class=\"dataframe\">\n",
       "  <thead>\n",
       "    <tr style=\"text-align: right;\">\n",
       "      <th></th>\n",
       "      <th>Seller 1</th>\n",
       "      <th>Seller 2</th>\n",
       "      <th>Seller 3</th>\n",
       "      <th>Seller 4</th>\n",
       "      <th>Seller 5</th>\n",
       "      <th>Seller 6</th>\n",
       "    </tr>\n",
       "    <tr>\n",
       "      <th>day</th>\n",
       "      <th></th>\n",
       "      <th></th>\n",
       "      <th></th>\n",
       "      <th></th>\n",
       "      <th></th>\n",
       "      <th></th>\n",
       "    </tr>\n",
       "  </thead>\n",
       "  <tbody>\n",
       "    <tr>\n",
       "      <th>1</th>\n",
       "      <td>320</td>\n",
       "      <td>80</td>\n",
       "      <td>139</td>\n",
       "      <td>330</td>\n",
       "      <td>133</td>\n",
       "      <td>387</td>\n",
       "    </tr>\n",
       "    <tr>\n",
       "      <th>2</th>\n",
       "      <td>74</td>\n",
       "      <td>60</td>\n",
       "      <td>98</td>\n",
       "      <td>44</td>\n",
       "      <td>182</td>\n",
       "      <td>29</td>\n",
       "    </tr>\n",
       "    <tr>\n",
       "      <th>3</th>\n",
       "      <td>340</td>\n",
       "      <td>67</td>\n",
       "      <td>42</td>\n",
       "      <td>100</td>\n",
       "      <td>51</td>\n",
       "      <td>91</td>\n",
       "    </tr>\n",
       "    <tr>\n",
       "      <th>4</th>\n",
       "      <td>322</td>\n",
       "      <td>54</td>\n",
       "      <td>89</td>\n",
       "      <td>44</td>\n",
       "      <td>67</td>\n",
       "      <td>886</td>\n",
       "    </tr>\n",
       "    <tr>\n",
       "      <th>5</th>\n",
       "      <td>146</td>\n",
       "      <td>195</td>\n",
       "      <td>47</td>\n",
       "      <td>173</td>\n",
       "      <td>49</td>\n",
       "      <td>227</td>\n",
       "    </tr>\n",
       "    <tr>\n",
       "      <th>6</th>\n",
       "      <td>24</td>\n",
       "      <td>288</td>\n",
       "      <td>124</td>\n",
       "      <td>111</td>\n",
       "      <td>730</td>\n",
       "      <td>79</td>\n",
       "    </tr>\n",
       "    <tr>\n",
       "      <th>7</th>\n",
       "      <td>42</td>\n",
       "      <td>249</td>\n",
       "      <td>26</td>\n",
       "      <td>77</td>\n",
       "      <td>672</td>\n",
       "      <td>45</td>\n",
       "    </tr>\n",
       "    <tr>\n",
       "      <th>8</th>\n",
       "      <td>76</td>\n",
       "      <td>67</td>\n",
       "      <td>140</td>\n",
       "      <td>382</td>\n",
       "      <td>195</td>\n",
       "      <td>171</td>\n",
       "    </tr>\n",
       "    <tr>\n",
       "      <th>9</th>\n",
       "      <td>99</td>\n",
       "      <td>312</td>\n",
       "      <td>125</td>\n",
       "      <td>123</td>\n",
       "      <td>43</td>\n",
       "      <td>98</td>\n",
       "    </tr>\n",
       "    <tr>\n",
       "      <th>10</th>\n",
       "      <td>915</td>\n",
       "      <td>77</td>\n",
       "      <td>106</td>\n",
       "      <td>250</td>\n",
       "      <td>149</td>\n",
       "      <td>70</td>\n",
       "    </tr>\n",
       "  </tbody>\n",
       "</table>\n",
       "</div>"
      ],
      "text/plain": [
       "     Seller 1  Seller 2  Seller 3  Seller 4  Seller 5  Seller 6\n",
       "day                                                            \n",
       "1         320        80       139       330       133       387\n",
       "2          74        60        98        44       182        29\n",
       "3         340        67        42       100        51        91\n",
       "4         322        54        89        44        67       886\n",
       "5         146       195        47       173        49       227\n",
       "6          24       288       124       111       730        79\n",
       "7          42       249        26        77       672        45\n",
       "8          76        67       140       382       195       171\n",
       "9          99       312       125       123        43        98\n",
       "10        915        77       106       250       149        70"
      ]
     },
     "execution_count": 11,
     "metadata": {},
     "output_type": "execute_result"
    }
   ],
   "source": [
    "df = pd.read_csv('sales.csv')\n",
    "df = df.set_index('day')\n",
    "df.head(10)"
   ]
  },
  {
   "cell_type": "markdown",
   "metadata": {},
   "source": [
    "# Manually computing confidence intervals\n",
    "\n",
    "We can compute exact confidence intervals using the mean and standard deviation\n",
    "\n",
    "`ci = mean ± (t*std)`\n",
    "\n",
    "Where `t` depends on what confidence interval we want."
   ]
  },
  {
   "cell_type": "code",
   "execution_count": 14,
   "metadata": {
    "collapsed": true
   },
   "outputs": [],
   "source": [
    "t=1.96 #For 95% CIs"
   ]
  },
  {
   "cell_type": "code",
   "execution_count": 15,
   "metadata": {
    "scrolled": true
   },
   "outputs": [
    {
     "data": {
      "text/plain": [
       "Seller 1    148.766667\n",
       "Seller 2    154.233333\n",
       "Seller 3    121.500000\n",
       "Seller 4    143.233333\n",
       "Seller 5    173.233333\n",
       "Seller 6    194.866667\n",
       "dtype: float64"
      ]
     },
     "execution_count": 15,
     "metadata": {},
     "output_type": "execute_result"
    }
   ],
   "source": [
    "df.mean()"
   ]
  },
  {
   "cell_type": "code",
   "execution_count": 16,
   "metadata": {},
   "outputs": [
    {
     "data": {
      "text/plain": [
       "Seller 1    170.761314\n",
       "Seller 2    186.324093\n",
       "Seller 3     81.269136\n",
       "Seller 4    123.869142\n",
       "Seller 5    196.273856\n",
       "Seller 6    262.876362\n",
       "dtype: float64"
      ]
     },
     "execution_count": 16,
     "metadata": {},
     "output_type": "execute_result"
    }
   ],
   "source": [
    "df.std()"
   ]
  },
  {
   "cell_type": "code",
   "execution_count": 17,
   "metadata": {},
   "outputs": [
    {
     "data": {
      "text/plain": [
       "5.4772255750516612"
      ]
     },
     "execution_count": 17,
     "metadata": {},
     "output_type": "execute_result"
    }
   ],
   "source": [
    "sqn=sqrt(len(df))\n",
    "sqn"
   ]
  },
  {
   "cell_type": "code",
   "execution_count": 18,
   "metadata": {},
   "outputs": [
    {
     "data": {
      "text/html": [
       "<div>\n",
       "<style>\n",
       "    .dataframe thead tr:only-child th {\n",
       "        text-align: right;\n",
       "    }\n",
       "\n",
       "    .dataframe thead th {\n",
       "        text-align: left;\n",
       "    }\n",
       "\n",
       "    .dataframe tbody tr th {\n",
       "        vertical-align: top;\n",
       "    }\n",
       "</style>\n",
       "<table border=\"1\" class=\"dataframe\">\n",
       "  <thead>\n",
       "    <tr style=\"text-align: right;\">\n",
       "      <th></th>\n",
       "      <th>ci</th>\n",
       "      <th>mean</th>\n",
       "    </tr>\n",
       "  </thead>\n",
       "  <tbody>\n",
       "    <tr>\n",
       "      <th>Seller 1</th>\n",
       "      <td>61.106152</td>\n",
       "      <td>148.766667</td>\n",
       "    </tr>\n",
       "    <tr>\n",
       "      <th>Seller 2</th>\n",
       "      <td>66.675221</td>\n",
       "      <td>154.233333</td>\n",
       "    </tr>\n",
       "    <tr>\n",
       "      <th>Seller 3</th>\n",
       "      <td>29.081787</td>\n",
       "      <td>121.500000</td>\n",
       "    </tr>\n",
       "    <tr>\n",
       "      <th>Seller 4</th>\n",
       "      <td>44.326003</td>\n",
       "      <td>143.233333</td>\n",
       "    </tr>\n",
       "    <tr>\n",
       "      <th>Seller 5</th>\n",
       "      <td>70.235697</td>\n",
       "      <td>173.233333</td>\n",
       "    </tr>\n",
       "    <tr>\n",
       "      <th>Seller 6</th>\n",
       "      <td>94.069098</td>\n",
       "      <td>194.866667</td>\n",
       "    </tr>\n",
       "  </tbody>\n",
       "</table>\n",
       "</div>"
      ],
      "text/plain": [
       "                 ci        mean\n",
       "Seller 1  61.106152  148.766667\n",
       "Seller 2  66.675221  154.233333\n",
       "Seller 3  29.081787  121.500000\n",
       "Seller 4  44.326003  143.233333\n",
       "Seller 5  70.235697  173.233333\n",
       "Seller 6  94.069098  194.866667"
      ]
     },
     "execution_count": 18,
     "metadata": {},
     "output_type": "execute_result"
    }
   ],
   "source": [
    "cis = DataFrame({'mean':df.mean(), 'ci':t*df.std()/sqn})\n",
    "cis"
   ]
  },
  {
   "cell_type": "code",
   "execution_count": 19,
   "metadata": {},
   "outputs": [
    {
     "data": {
      "text/plain": [
       "<matplotlib.axes._subplots.AxesSubplot at 0x162357b67f0>"
      ]
     },
     "execution_count": 19,
     "metadata": {},
     "output_type": "execute_result"
    },
    {
     "data": {
      "image/png": "[encoded data removed]",
      "text/plain": [
       "<matplotlib.figure.Figure at 0x1623579d6d8>"
      ]
     },
     "metadata": {},
     "output_type": "display_data"
    }
   ],
   "source": [
    "cis.plot(kind=\"bar\", yerr=\"ci\")"
   ]
  },
  {
   "cell_type": "markdown",
   "metadata": {},
   "source": [
    "# Let's check if our data is normally distributed"
   ]
  },
  {
   "cell_type": "markdown",
   "metadata": {},
   "source": [
    "First we pivot the dataframe using the `melt` command to put all of the values into one 'Sales' column. "
   ]
  },
  {
   "cell_type": "code",
   "execution_count": 20,
   "metadata": {},
   "outputs": [
    {
     "data": {
      "text/html": [
       "<div>\n",
       "<style>\n",
       "    .dataframe thead tr:only-child th {\n",
       "        text-align: right;\n",
       "    }\n",
       "\n",
       "    .dataframe thead th {\n",
       "        text-align: left;\n",
       "    }\n",
       "\n",
       "    .dataframe tbody tr th {\n",
       "        vertical-align: top;\n",
       "    }\n",
       "</style>\n",
       "<table border=\"1\" class=\"dataframe\">\n",
       "  <thead>\n",
       "    <tr style=\"text-align: right;\">\n",
       "      <th></th>\n",
       "      <th>Sellers</th>\n",
       "      <th>Sales</th>\n",
       "    </tr>\n",
       "  </thead>\n",
       "  <tbody>\n",
       "    <tr>\n",
       "      <th>175</th>\n",
       "      <td>Seller 6</td>\n",
       "      <td>173</td>\n",
       "    </tr>\n",
       "    <tr>\n",
       "      <th>176</th>\n",
       "      <td>Seller 6</td>\n",
       "      <td>24</td>\n",
       "    </tr>\n",
       "    <tr>\n",
       "      <th>177</th>\n",
       "      <td>Seller 6</td>\n",
       "      <td>82</td>\n",
       "    </tr>\n",
       "    <tr>\n",
       "      <th>178</th>\n",
       "      <td>Seller 6</td>\n",
       "      <td>58</td>\n",
       "    </tr>\n",
       "    <tr>\n",
       "      <th>179</th>\n",
       "      <td>Seller 6</td>\n",
       "      <td>27</td>\n",
       "    </tr>\n",
       "  </tbody>\n",
       "</table>\n",
       "</div>"
      ],
      "text/plain": [
       "      Sellers  Sales\n",
       "175  Seller 6    173\n",
       "176  Seller 6     24\n",
       "177  Seller 6     82\n",
       "178  Seller 6     58\n",
       "179  Seller 6     27"
      ]
     },
     "execution_count": 20,
     "metadata": {},
     "output_type": "execute_result"
    }
   ],
   "source": [
    "df_pivot = pd.melt(df,value_vars=['Seller 1','Seller 2','Seller 3','Seller 4','Seller 5','Seller 6'], \n",
    "                   var_name=\"Sellers\", value_name=\"Sales\")\n",
    "df_pivot.tail(5)"
   ]
  },
  {
   "cell_type": "markdown",
   "metadata": {},
   "source": [
    "Then we can use a [Q-Q plot](https://en.wikipedia.org/wiki/Q%E2%80%93Q_plot) (a quantile-quantile plot) to see if we have a normal distribution.\n",
    "\n",
    "To do that we plot the sales values against a randomly generated normally-distributed set of new values."
   ]
  },
  {
   "cell_type": "code",
   "execution_count": 21,
   "metadata": {},
   "outputs": [
    {
     "data": {
      "image/png": "[encoded data removed]",
      "text/plain": [
       "<matplotlib.figure.Figure at 0x16235a728d0>"
      ]
     },
     "metadata": {},
     "output_type": "display_data"
    }
   ],
   "source": [
    "# http://scientificpythonsnippets.com/index.php/distributions/6-q-q-plot-in-python-to-test-if-data-is-normally-distributed\n",
    "\n",
    "# get all of the sales values and plot them against a normally-distributed set of quantiles\n",
    "sales = df_pivot[\"Sales\"].copy()\n",
    "sales.sort_values(inplace=True)\n",
    "norm=random.lognormal(0,2,len(sales))\n",
    "norm.sort()\n",
    "plt.plot(norm,sales,\"o\")\n",
    "\n",
    "# add a trend line and make it pretty\n",
    "z = np.polyfit(norm,sales, 1)\n",
    "p = np.poly1d(z)\n",
    "plt.plot(norm,p(norm),\"k--\", linewidth=2)\n",
    "plt.title(\"Normal Q-Q plot\", size=28)\n",
    "plt.xlabel(\"Theoretical quantiles\", size=24)\n",
    "plt.ylabel(\"Expreimental quantiles\", size=24)\n",
    "plt.tick_params(labelsize=16)\n"
   ]
  },
  {
   "cell_type": "markdown",
   "metadata": {},
   "source": [
    "For comparison, we can also plot two normally distributed sets against one another."
   ]
  },
  {
   "cell_type": "code",
   "execution_count": 22,
   "metadata": {},
   "outputs": [
    {
     "data": {
      "text/plain": [
       "[<matplotlib.lines.Line2D at 0x16236e56c50>]"
      ]
     },
     "execution_count": 22,
     "metadata": {},
     "output_type": "execute_result"
    },
    {
     "data": {
      "image/png": "[encoded data removed]",
      "text/plain": [
       "<matplotlib.figure.Figure at 0x16235783278>"
      ]
     },
     "metadata": {},
     "output_type": "display_data"
    }
   ],
   "source": [
    "norm2=random.normal(0,2,len(sales))\n",
    "norm2.sort()\n",
    "plt.plot(norm,norm2,\"o\")"
   ]
  },
  {
   "cell_type": "markdown",
   "metadata": {},
   "source": [
    "If the data isn't normally distributed. Bootstrap CIs might be a better choice.\n",
    "\n",
    "(A histogram could also have shown us this.)"
   ]
  },
  {
   "cell_type": "code",
   "execution_count": 23,
   "metadata": {},
   "outputs": [
    {
     "data": {
      "text/plain": [
       "<matplotlib.axes._subplots.AxesSubplot at 0x16236e210f0>"
      ]
     },
     "execution_count": 23,
     "metadata": {},
     "output_type": "execute_result"
    },
    {
     "data": {
      "image/png": "[encoded data removed]",
      "text/plain": [
       "<matplotlib.figure.Figure at 0x16235a724a8>"
      ]
     },
     "metadata": {},
     "output_type": "display_data"
    }
   ],
   "source": [
    "sales.hist()"
   ]
  },
  {
   "cell_type": "markdown",
   "metadata": {},
   "source": [
    "This data probably has a log-normal distribution. Which we can test by taking the log."
   ]
  },
  {
   "cell_type": "code",
   "execution_count": 24,
   "metadata": {},
   "outputs": [
    {
     "data": {
      "text/plain": [
       "<matplotlib.axes._subplots.AxesSubplot at 0x16235796860>"
      ]
     },
     "execution_count": 24,
     "metadata": {},
     "output_type": "execute_result"
    },
    {
     "data": {
      "image/png": "[encoded data removed]",
      "text/plain": [
       "<matplotlib.figure.Figure at 0x162357d3978>"
      ]
     },
     "metadata": {},
     "output_type": "display_data"
    }
   ],
   "source": [
    "np.log(sales).hist()"
   ]
  },
  {
   "cell_type": "markdown",
   "metadata": {},
   "source": [
    "...we can always reverse that by taking the exponent."
   ]
  },
  {
   "cell_type": "code",
   "execution_count": 25,
   "metadata": {},
   "outputs": [
    {
     "data": {
      "text/plain": [
       "<matplotlib.axes._subplots.AxesSubplot at 0x16236e93cf8>"
      ]
     },
     "execution_count": 25,
     "metadata": {},
     "output_type": "execute_result"
    },
    {
     "data": {
      "image/png": "[encoded data removed]",
      "text/plain": [
       "<matplotlib.figure.Figure at 0x16236edcc18>"
      ]
     },
     "metadata": {},
     "output_type": "display_data"
    }
   ],
   "source": [
    "np.exp(np.log(sales)).hist()"
   ]
  },
  {
   "cell_type": "markdown",
   "metadata": {},
   "source": [
    "If we wanted to, we could log-transform the data, compute CIs, then convert back before plotting.\n",
    "This would give more accurate confidence intervals (you can try later if you'd like).\n",
    "Instead, for now, we'll compute bootstrap confidence intervals."
   ]
  },
  {
   "cell_type": "markdown",
   "metadata": {},
   "source": [
    "# Bootstrap confidence intervals in Seaborn\n",
    "\n",
    "The [Seaborn charting package](https://seaborn.github.io) supports bootstrap confidence intervals by default on most of it's chart types. \n",
    "\n",
    "If you don't already have seaborn installed, open a terminal or command prompt and run:\n",
    "`conda install seaborn`"
   ]
  },
  {
   "cell_type": "code",
   "execution_count": 26,
   "metadata": {
    "collapsed": true
   },
   "outputs": [],
   "source": [
    "# Import seaborn\n",
    "import seaborn as sns"
   ]
  },
  {
   "cell_type": "markdown",
   "metadata": {},
   "source": [
    "**Draw a bar plot to show each seller.**\n",
    "\n",
    "Use the `ci` parameter to set the confidence interval and the `n_boot` parameter to set the number of samples."
   ]
  },
  {
   "cell_type": "code",
   "execution_count": 27,
   "metadata": {},
   "outputs": [
    {
     "data": {
      "image/png": "[encoded data removed]",
      "text/plain": [
       "<matplotlib.figure.Figure at 0x16237a56d30>"
      ]
     },
     "metadata": {},
     "output_type": "display_data"
    }
   ],
   "source": [
    "sns.set_style('whitegrid')\n",
    "g = sns.barplot(x=\"Sellers\", y=\"Sales\", hue=\"Sellers\", data=df_pivot,\n",
    "                palette=\"muted\", ci=95, n_boot=1000)"
   ]
  },
  {
   "cell_type": "markdown",
   "metadata": {},
   "source": [
    "**Try experimenting with different sized confidence intervals and different numbers of bootstrap samples.**\n",
    "\n",
    "*How does this change the size of the confidence intervals?*\n",
    "*What happens if you re-run multiple times?*"
   ]
  },
  {
   "cell_type": "markdown",
   "metadata": {},
   "source": [
    "# Confidence intervals for pairwise comparisons\n",
    "If we want to see if one seller reliably sells more than another seller on a daily basis, we can test that directly."
   ]
  },
  {
   "cell_type": "code",
   "execution_count": 28,
   "metadata": {},
   "outputs": [
    {
     "data": {
      "text/html": [
       "<div>\n",
       "<style>\n",
       "    .dataframe thead tr:only-child th {\n",
       "        text-align: right;\n",
       "    }\n",
       "\n",
       "    .dataframe thead th {\n",
       "        text-align: left;\n",
       "    }\n",
       "\n",
       "    .dataframe tbody tr th {\n",
       "        vertical-align: top;\n",
       "    }\n",
       "</style>\n",
       "<table border=\"1\" class=\"dataframe\">\n",
       "  <thead>\n",
       "    <tr style=\"text-align: right;\">\n",
       "      <th></th>\n",
       "      <th>Seller 6 - 3</th>\n",
       "      <th>Seller 6 - 5</th>\n",
       "    </tr>\n",
       "    <tr>\n",
       "      <th>day</th>\n",
       "      <th></th>\n",
       "      <th></th>\n",
       "    </tr>\n",
       "  </thead>\n",
       "  <tbody>\n",
       "    <tr>\n",
       "      <th>1</th>\n",
       "      <td>248</td>\n",
       "      <td>254</td>\n",
       "    </tr>\n",
       "    <tr>\n",
       "      <th>2</th>\n",
       "      <td>-69</td>\n",
       "      <td>-153</td>\n",
       "    </tr>\n",
       "    <tr>\n",
       "      <th>3</th>\n",
       "      <td>49</td>\n",
       "      <td>40</td>\n",
       "    </tr>\n",
       "    <tr>\n",
       "      <th>4</th>\n",
       "      <td>797</td>\n",
       "      <td>819</td>\n",
       "    </tr>\n",
       "    <tr>\n",
       "      <th>5</th>\n",
       "      <td>180</td>\n",
       "      <td>178</td>\n",
       "    </tr>\n",
       "  </tbody>\n",
       "</table>\n",
       "</div>"
      ],
      "text/plain": [
       "     Seller 6 - 3  Seller 6 - 5\n",
       "day                            \n",
       "1             248           254\n",
       "2             -69          -153\n",
       "3              49            40\n",
       "4             797           819\n",
       "5             180           178"
      ]
     },
     "execution_count": 28,
     "metadata": {},
     "output_type": "execute_result"
    }
   ],
   "source": [
    "df_comp = DataFrame({\"Seller 6 - 3\":(df['Seller 6'] - df['Seller 3']),\n",
    "                     \"Seller 6 - 5\":(df['Seller 6'] - df['Seller 5'])})\n",
    "df_comp.head(5)"
   ]
  },
  {
   "cell_type": "code",
   "execution_count": 29,
   "metadata": {},
   "outputs": [
    {
     "data": {
      "text/html": [
       "<div>\n",
       "<style>\n",
       "    .dataframe thead tr:only-child th {\n",
       "        text-align: right;\n",
       "    }\n",
       "\n",
       "    .dataframe thead th {\n",
       "        text-align: left;\n",
       "    }\n",
       "\n",
       "    .dataframe tbody tr th {\n",
       "        vertical-align: top;\n",
       "    }\n",
       "</style>\n",
       "<table border=\"1\" class=\"dataframe\">\n",
       "  <thead>\n",
       "    <tr style=\"text-align: right;\">\n",
       "      <th></th>\n",
       "      <th>Seller Pair</th>\n",
       "      <th>Difference in Sales</th>\n",
       "    </tr>\n",
       "  </thead>\n",
       "  <tbody>\n",
       "    <tr>\n",
       "      <th>55</th>\n",
       "      <td>Seller 6 - 5</td>\n",
       "      <td>104</td>\n",
       "    </tr>\n",
       "    <tr>\n",
       "      <th>56</th>\n",
       "      <td>Seller 6 - 5</td>\n",
       "      <td>-24</td>\n",
       "    </tr>\n",
       "    <tr>\n",
       "      <th>57</th>\n",
       "      <td>Seller 6 - 5</td>\n",
       "      <td>-13</td>\n",
       "    </tr>\n",
       "    <tr>\n",
       "      <th>58</th>\n",
       "      <td>Seller 6 - 5</td>\n",
       "      <td>-182</td>\n",
       "    </tr>\n",
       "    <tr>\n",
       "      <th>59</th>\n",
       "      <td>Seller 6 - 5</td>\n",
       "      <td>-18</td>\n",
       "    </tr>\n",
       "  </tbody>\n",
       "</table>\n",
       "</div>"
      ],
      "text/plain": [
       "     Seller Pair  Difference in Sales\n",
       "55  Seller 6 - 5                  104\n",
       "56  Seller 6 - 5                  -24\n",
       "57  Seller 6 - 5                  -13\n",
       "58  Seller 6 - 5                 -182\n",
       "59  Seller 6 - 5                  -18"
      ]
     },
     "execution_count": 29,
     "metadata": {},
     "output_type": "execute_result"
    }
   ],
   "source": [
    "df_comp_pivot = pd.melt(df_comp,value_vars=['Seller 6 - 3','Seller 6 - 5'], \n",
    "                   var_name=\"Seller Pair\", value_name=\"Difference in Sales\")\n",
    "df_comp_pivot.tail(5)"
   ]
  },
  {
   "cell_type": "code",
   "execution_count": 30,
   "metadata": {},
   "outputs": [
    {
     "data": {
      "text/plain": [
       "<matplotlib.lines.Line2D at 0x16237ac0a58>"
      ]
     },
     "execution_count": 30,
     "metadata": {},
     "output_type": "execute_result"
    },
    {
     "data": {
      "image/png": "[encoded data removed]",
      "text/plain": [
       "<matplotlib.figure.Figure at 0x16237b5a358>"
      ]
     },
     "metadata": {},
     "output_type": "display_data"
    }
   ],
   "source": [
    "sns.factorplot(y=\"Seller Pair\", x=\"Difference in Sales\", data=df_comp_pivot,\n",
    "               join=False,ci=95, n_boot=1000)\n",
    "plt.axvline(0,lw=2,color=\"k\")"
   ]
  },
  {
   "cell_type": "markdown",
   "metadata": {},
   "source": [
    "# Now...\n",
    "Have a look at the `sales-full.csv` dataset.\n",
    "Are there any clear differences in it?"
   ]
  },
  {
   "cell_type": "code",
   "execution_count": 39,
   "metadata": {},
   "outputs": [
    {
     "data": {
      "text/html": [
       "<div>\n",
       "<style>\n",
       "    .dataframe thead tr:only-child th {\n",
       "        text-align: right;\n",
       "    }\n",
       "\n",
       "    .dataframe thead th {\n",
       "        text-align: left;\n",
       "    }\n",
       "\n",
       "    .dataframe tbody tr th {\n",
       "        vertical-align: top;\n",
       "    }\n",
       "</style>\n",
       "<table border=\"1\" class=\"dataframe\">\n",
       "  <thead>\n",
       "    <tr style=\"text-align: right;\">\n",
       "      <th></th>\n",
       "      <th>day</th>\n",
       "      <th>Seller 1</th>\n",
       "      <th>Seller 2</th>\n",
       "      <th>Seller 3</th>\n",
       "      <th>Seller 4</th>\n",
       "      <th>Seller 5</th>\n",
       "      <th>Seller 6</th>\n",
       "    </tr>\n",
       "  </thead>\n",
       "  <tbody>\n",
       "    <tr>\n",
       "      <th>0</th>\n",
       "      <td>1</td>\n",
       "      <td>320</td>\n",
       "      <td>89</td>\n",
       "      <td>21</td>\n",
       "      <td>57</td>\n",
       "      <td>57</td>\n",
       "      <td>107</td>\n",
       "    </tr>\n",
       "    <tr>\n",
       "      <th>1</th>\n",
       "      <td>2</td>\n",
       "      <td>74</td>\n",
       "      <td>386</td>\n",
       "      <td>181</td>\n",
       "      <td>71</td>\n",
       "      <td>29</td>\n",
       "      <td>95</td>\n",
       "    </tr>\n",
       "    <tr>\n",
       "      <th>2</th>\n",
       "      <td>3</td>\n",
       "      <td>340</td>\n",
       "      <td>186</td>\n",
       "      <td>151</td>\n",
       "      <td>108</td>\n",
       "      <td>342</td>\n",
       "      <td>78</td>\n",
       "    </tr>\n",
       "    <tr>\n",
       "      <th>3</th>\n",
       "      <td>4</td>\n",
       "      <td>322</td>\n",
       "      <td>606</td>\n",
       "      <td>257</td>\n",
       "      <td>96</td>\n",
       "      <td>167</td>\n",
       "      <td>423</td>\n",
       "    </tr>\n",
       "    <tr>\n",
       "      <th>4</th>\n",
       "      <td>5</td>\n",
       "      <td>146</td>\n",
       "      <td>78</td>\n",
       "      <td>269</td>\n",
       "      <td>527</td>\n",
       "      <td>321</td>\n",
       "      <td>70</td>\n",
       "    </tr>\n",
       "    <tr>\n",
       "      <th>5</th>\n",
       "      <td>6</td>\n",
       "      <td>24</td>\n",
       "      <td>31</td>\n",
       "      <td>152</td>\n",
       "      <td>73</td>\n",
       "      <td>14</td>\n",
       "      <td>497</td>\n",
       "    </tr>\n",
       "    <tr>\n",
       "      <th>6</th>\n",
       "      <td>7</td>\n",
       "      <td>42</td>\n",
       "      <td>69</td>\n",
       "      <td>178</td>\n",
       "      <td>50</td>\n",
       "      <td>435</td>\n",
       "      <td>36</td>\n",
       "    </tr>\n",
       "    <tr>\n",
       "      <th>7</th>\n",
       "      <td>8</td>\n",
       "      <td>76</td>\n",
       "      <td>109</td>\n",
       "      <td>58</td>\n",
       "      <td>22</td>\n",
       "      <td>211</td>\n",
       "      <td>222</td>\n",
       "    </tr>\n",
       "    <tr>\n",
       "      <th>8</th>\n",
       "      <td>9</td>\n",
       "      <td>99</td>\n",
       "      <td>80</td>\n",
       "      <td>430</td>\n",
       "      <td>39</td>\n",
       "      <td>95</td>\n",
       "      <td>163</td>\n",
       "    </tr>\n",
       "    <tr>\n",
       "      <th>9</th>\n",
       "      <td>10</td>\n",
       "      <td>915</td>\n",
       "      <td>68</td>\n",
       "      <td>19</td>\n",
       "      <td>1092</td>\n",
       "      <td>257</td>\n",
       "      <td>27</td>\n",
       "    </tr>\n",
       "    <tr>\n",
       "      <th>10</th>\n",
       "      <td>11</td>\n",
       "      <td>202</td>\n",
       "      <td>23</td>\n",
       "      <td>17</td>\n",
       "      <td>132</td>\n",
       "      <td>198</td>\n",
       "      <td>396</td>\n",
       "    </tr>\n",
       "    <tr>\n",
       "      <th>11</th>\n",
       "      <td>12</td>\n",
       "      <td>47</td>\n",
       "      <td>47</td>\n",
       "      <td>30</td>\n",
       "      <td>230</td>\n",
       "      <td>282</td>\n",
       "      <td>31</td>\n",
       "    </tr>\n",
       "    <tr>\n",
       "      <th>12</th>\n",
       "      <td>13</td>\n",
       "      <td>34</td>\n",
       "      <td>36</td>\n",
       "      <td>231</td>\n",
       "      <td>121</td>\n",
       "      <td>255</td>\n",
       "      <td>38</td>\n",
       "    </tr>\n",
       "    <tr>\n",
       "      <th>13</th>\n",
       "      <td>14</td>\n",
       "      <td>76</td>\n",
       "      <td>132</td>\n",
       "      <td>36</td>\n",
       "      <td>117</td>\n",
       "      <td>177</td>\n",
       "      <td>59</td>\n",
       "    </tr>\n",
       "    <tr>\n",
       "      <th>14</th>\n",
       "      <td>15</td>\n",
       "      <td>75</td>\n",
       "      <td>137</td>\n",
       "      <td>70</td>\n",
       "      <td>85</td>\n",
       "      <td>173</td>\n",
       "      <td>37</td>\n",
       "    </tr>\n",
       "    <tr>\n",
       "      <th>15</th>\n",
       "      <td>16</td>\n",
       "      <td>68</td>\n",
       "      <td>412</td>\n",
       "      <td>107</td>\n",
       "      <td>167</td>\n",
       "      <td>81</td>\n",
       "      <td>71</td>\n",
       "    </tr>\n",
       "    <tr>\n",
       "      <th>16</th>\n",
       "      <td>17</td>\n",
       "      <td>126</td>\n",
       "      <td>73</td>\n",
       "      <td>64</td>\n",
       "      <td>378</td>\n",
       "      <td>237</td>\n",
       "      <td>58</td>\n",
       "    </tr>\n",
       "    <tr>\n",
       "      <th>17</th>\n",
       "      <td>18</td>\n",
       "      <td>43</td>\n",
       "      <td>239</td>\n",
       "      <td>14</td>\n",
       "      <td>229</td>\n",
       "      <td>87</td>\n",
       "      <td>91</td>\n",
       "    </tr>\n",
       "    <tr>\n",
       "      <th>18</th>\n",
       "      <td>19</td>\n",
       "      <td>149</td>\n",
       "      <td>64</td>\n",
       "      <td>293</td>\n",
       "      <td>81</td>\n",
       "      <td>558</td>\n",
       "      <td>71</td>\n",
       "    </tr>\n",
       "    <tr>\n",
       "      <th>19</th>\n",
       "      <td>20</td>\n",
       "      <td>31</td>\n",
       "      <td>24</td>\n",
       "      <td>93</td>\n",
       "      <td>110</td>\n",
       "      <td>166</td>\n",
       "      <td>10</td>\n",
       "    </tr>\n",
       "    <tr>\n",
       "      <th>20</th>\n",
       "      <td>21</td>\n",
       "      <td>81</td>\n",
       "      <td>149</td>\n",
       "      <td>162</td>\n",
       "      <td>26</td>\n",
       "      <td>638</td>\n",
       "      <td>67</td>\n",
       "    </tr>\n",
       "    <tr>\n",
       "      <th>21</th>\n",
       "      <td>22</td>\n",
       "      <td>141</td>\n",
       "      <td>61</td>\n",
       "      <td>100</td>\n",
       "      <td>285</td>\n",
       "      <td>105</td>\n",
       "      <td>71</td>\n",
       "    </tr>\n",
       "    <tr>\n",
       "      <th>22</th>\n",
       "      <td>23</td>\n",
       "      <td>113</td>\n",
       "      <td>46</td>\n",
       "      <td>61</td>\n",
       "      <td>531</td>\n",
       "      <td>122</td>\n",
       "      <td>59</td>\n",
       "    </tr>\n",
       "    <tr>\n",
       "      <th>23</th>\n",
       "      <td>24</td>\n",
       "      <td>209</td>\n",
       "      <td>49</td>\n",
       "      <td>109</td>\n",
       "      <td>24</td>\n",
       "      <td>349</td>\n",
       "      <td>27</td>\n",
       "    </tr>\n",
       "    <tr>\n",
       "      <th>24</th>\n",
       "      <td>25</td>\n",
       "      <td>94</td>\n",
       "      <td>272</td>\n",
       "      <td>211</td>\n",
       "      <td>98</td>\n",
       "      <td>467</td>\n",
       "      <td>55</td>\n",
       "    </tr>\n",
       "    <tr>\n",
       "      <th>25</th>\n",
       "      <td>26</td>\n",
       "      <td>159</td>\n",
       "      <td>425</td>\n",
       "      <td>24</td>\n",
       "      <td>44</td>\n",
       "      <td>48</td>\n",
       "      <td>440</td>\n",
       "    </tr>\n",
       "    <tr>\n",
       "      <th>26</th>\n",
       "      <td>27</td>\n",
       "      <td>271</td>\n",
       "      <td>252</td>\n",
       "      <td>34</td>\n",
       "      <td>33</td>\n",
       "      <td>348</td>\n",
       "      <td>80</td>\n",
       "    </tr>\n",
       "    <tr>\n",
       "      <th>27</th>\n",
       "      <td>28</td>\n",
       "      <td>52</td>\n",
       "      <td>77</td>\n",
       "      <td>331</td>\n",
       "      <td>267</td>\n",
       "      <td>450</td>\n",
       "      <td>57</td>\n",
       "    </tr>\n",
       "    <tr>\n",
       "      <th>28</th>\n",
       "      <td>29</td>\n",
       "      <td>30</td>\n",
       "      <td>29</td>\n",
       "      <td>43</td>\n",
       "      <td>292</td>\n",
       "      <td>96</td>\n",
       "      <td>86</td>\n",
       "    </tr>\n",
       "    <tr>\n",
       "      <th>29</th>\n",
       "      <td>30</td>\n",
       "      <td>104</td>\n",
       "      <td>122</td>\n",
       "      <td>101</td>\n",
       "      <td>648</td>\n",
       "      <td>303</td>\n",
       "      <td>8</td>\n",
       "    </tr>\n",
       "    <tr>\n",
       "      <th>...</th>\n",
       "      <td>...</td>\n",
       "      <td>...</td>\n",
       "      <td>...</td>\n",
       "      <td>...</td>\n",
       "      <td>...</td>\n",
       "      <td>...</td>\n",
       "      <td>...</td>\n",
       "    </tr>\n",
       "    <tr>\n",
       "      <th>270</th>\n",
       "      <td>271</td>\n",
       "      <td>133</td>\n",
       "      <td>83</td>\n",
       "      <td>16</td>\n",
       "      <td>160</td>\n",
       "      <td>237</td>\n",
       "      <td>169</td>\n",
       "    </tr>\n",
       "    <tr>\n",
       "      <th>271</th>\n",
       "      <td>272</td>\n",
       "      <td>479</td>\n",
       "      <td>59</td>\n",
       "      <td>790</td>\n",
       "      <td>80</td>\n",
       "      <td>2511</td>\n",
       "      <td>38</td>\n",
       "    </tr>\n",
       "    <tr>\n",
       "      <th>272</th>\n",
       "      <td>273</td>\n",
       "      <td>66</td>\n",
       "      <td>40</td>\n",
       "      <td>84</td>\n",
       "      <td>497</td>\n",
       "      <td>206</td>\n",
       "      <td>168</td>\n",
       "    </tr>\n",
       "    <tr>\n",
       "      <th>273</th>\n",
       "      <td>274</td>\n",
       "      <td>33</td>\n",
       "      <td>105</td>\n",
       "      <td>27</td>\n",
       "      <td>303</td>\n",
       "      <td>43</td>\n",
       "      <td>247</td>\n",
       "    </tr>\n",
       "    <tr>\n",
       "      <th>274</th>\n",
       "      <td>275</td>\n",
       "      <td>75</td>\n",
       "      <td>57</td>\n",
       "      <td>315</td>\n",
       "      <td>182</td>\n",
       "      <td>348</td>\n",
       "      <td>43</td>\n",
       "    </tr>\n",
       "    <tr>\n",
       "      <th>275</th>\n",
       "      <td>276</td>\n",
       "      <td>177</td>\n",
       "      <td>31</td>\n",
       "      <td>79</td>\n",
       "      <td>216</td>\n",
       "      <td>272</td>\n",
       "      <td>30</td>\n",
       "    </tr>\n",
       "    <tr>\n",
       "      <th>276</th>\n",
       "      <td>277</td>\n",
       "      <td>118</td>\n",
       "      <td>27</td>\n",
       "      <td>125</td>\n",
       "      <td>241</td>\n",
       "      <td>216</td>\n",
       "      <td>203</td>\n",
       "    </tr>\n",
       "    <tr>\n",
       "      <th>277</th>\n",
       "      <td>278</td>\n",
       "      <td>336</td>\n",
       "      <td>275</td>\n",
       "      <td>48</td>\n",
       "      <td>284</td>\n",
       "      <td>164</td>\n",
       "      <td>49</td>\n",
       "    </tr>\n",
       "    <tr>\n",
       "      <th>278</th>\n",
       "      <td>279</td>\n",
       "      <td>75</td>\n",
       "      <td>53</td>\n",
       "      <td>19</td>\n",
       "      <td>42</td>\n",
       "      <td>272</td>\n",
       "      <td>203</td>\n",
       "    </tr>\n",
       "    <tr>\n",
       "      <th>279</th>\n",
       "      <td>280</td>\n",
       "      <td>21</td>\n",
       "      <td>49</td>\n",
       "      <td>85</td>\n",
       "      <td>433</td>\n",
       "      <td>93</td>\n",
       "      <td>256</td>\n",
       "    </tr>\n",
       "    <tr>\n",
       "      <th>280</th>\n",
       "      <td>281</td>\n",
       "      <td>240</td>\n",
       "      <td>76</td>\n",
       "      <td>199</td>\n",
       "      <td>27</td>\n",
       "      <td>30</td>\n",
       "      <td>218</td>\n",
       "    </tr>\n",
       "    <tr>\n",
       "      <th>281</th>\n",
       "      <td>282</td>\n",
       "      <td>35</td>\n",
       "      <td>58</td>\n",
       "      <td>98</td>\n",
       "      <td>13</td>\n",
       "      <td>265</td>\n",
       "      <td>120</td>\n",
       "    </tr>\n",
       "    <tr>\n",
       "      <th>282</th>\n",
       "      <td>283</td>\n",
       "      <td>176</td>\n",
       "      <td>66</td>\n",
       "      <td>102</td>\n",
       "      <td>84</td>\n",
       "      <td>194</td>\n",
       "      <td>29</td>\n",
       "    </tr>\n",
       "    <tr>\n",
       "      <th>283</th>\n",
       "      <td>284</td>\n",
       "      <td>160</td>\n",
       "      <td>74</td>\n",
       "      <td>122</td>\n",
       "      <td>179</td>\n",
       "      <td>443</td>\n",
       "      <td>139</td>\n",
       "    </tr>\n",
       "    <tr>\n",
       "      <th>284</th>\n",
       "      <td>285</td>\n",
       "      <td>140</td>\n",
       "      <td>57</td>\n",
       "      <td>144</td>\n",
       "      <td>144</td>\n",
       "      <td>44</td>\n",
       "      <td>113</td>\n",
       "    </tr>\n",
       "    <tr>\n",
       "      <th>285</th>\n",
       "      <td>286</td>\n",
       "      <td>489</td>\n",
       "      <td>36</td>\n",
       "      <td>78</td>\n",
       "      <td>172</td>\n",
       "      <td>32</td>\n",
       "      <td>46</td>\n",
       "    </tr>\n",
       "    <tr>\n",
       "      <th>286</th>\n",
       "      <td>287</td>\n",
       "      <td>82</td>\n",
       "      <td>193</td>\n",
       "      <td>75</td>\n",
       "      <td>110</td>\n",
       "      <td>28</td>\n",
       "      <td>85</td>\n",
       "    </tr>\n",
       "    <tr>\n",
       "      <th>287</th>\n",
       "      <td>288</td>\n",
       "      <td>29</td>\n",
       "      <td>90</td>\n",
       "      <td>50</td>\n",
       "      <td>57</td>\n",
       "      <td>329</td>\n",
       "      <td>37</td>\n",
       "    </tr>\n",
       "    <tr>\n",
       "      <th>288</th>\n",
       "      <td>289</td>\n",
       "      <td>106</td>\n",
       "      <td>26</td>\n",
       "      <td>28</td>\n",
       "      <td>114</td>\n",
       "      <td>433</td>\n",
       "      <td>120</td>\n",
       "    </tr>\n",
       "    <tr>\n",
       "      <th>289</th>\n",
       "      <td>290</td>\n",
       "      <td>80</td>\n",
       "      <td>210</td>\n",
       "      <td>26</td>\n",
       "      <td>530</td>\n",
       "      <td>71</td>\n",
       "      <td>16</td>\n",
       "    </tr>\n",
       "    <tr>\n",
       "      <th>290</th>\n",
       "      <td>291</td>\n",
       "      <td>179</td>\n",
       "      <td>20</td>\n",
       "      <td>48</td>\n",
       "      <td>77</td>\n",
       "      <td>130</td>\n",
       "      <td>75</td>\n",
       "    </tr>\n",
       "    <tr>\n",
       "      <th>291</th>\n",
       "      <td>292</td>\n",
       "      <td>450</td>\n",
       "      <td>69</td>\n",
       "      <td>50</td>\n",
       "      <td>158</td>\n",
       "      <td>36</td>\n",
       "      <td>152</td>\n",
       "    </tr>\n",
       "    <tr>\n",
       "      <th>292</th>\n",
       "      <td>293</td>\n",
       "      <td>18</td>\n",
       "      <td>76</td>\n",
       "      <td>69</td>\n",
       "      <td>158</td>\n",
       "      <td>358</td>\n",
       "      <td>20</td>\n",
       "    </tr>\n",
       "    <tr>\n",
       "      <th>293</th>\n",
       "      <td>294</td>\n",
       "      <td>82</td>\n",
       "      <td>42</td>\n",
       "      <td>32</td>\n",
       "      <td>310</td>\n",
       "      <td>29</td>\n",
       "      <td>47</td>\n",
       "    </tr>\n",
       "    <tr>\n",
       "      <th>294</th>\n",
       "      <td>295</td>\n",
       "      <td>106</td>\n",
       "      <td>130</td>\n",
       "      <td>44</td>\n",
       "      <td>36</td>\n",
       "      <td>173</td>\n",
       "      <td>68</td>\n",
       "    </tr>\n",
       "    <tr>\n",
       "      <th>295</th>\n",
       "      <td>296</td>\n",
       "      <td>165</td>\n",
       "      <td>24</td>\n",
       "      <td>397</td>\n",
       "      <td>71</td>\n",
       "      <td>305</td>\n",
       "      <td>277</td>\n",
       "    </tr>\n",
       "    <tr>\n",
       "      <th>296</th>\n",
       "      <td>297</td>\n",
       "      <td>52</td>\n",
       "      <td>405</td>\n",
       "      <td>140</td>\n",
       "      <td>130</td>\n",
       "      <td>141</td>\n",
       "      <td>666</td>\n",
       "    </tr>\n",
       "    <tr>\n",
       "      <th>297</th>\n",
       "      <td>298</td>\n",
       "      <td>143</td>\n",
       "      <td>140</td>\n",
       "      <td>127</td>\n",
       "      <td>68</td>\n",
       "      <td>178</td>\n",
       "      <td>91</td>\n",
       "    </tr>\n",
       "    <tr>\n",
       "      <th>298</th>\n",
       "      <td>299</td>\n",
       "      <td>142</td>\n",
       "      <td>478</td>\n",
       "      <td>97</td>\n",
       "      <td>118</td>\n",
       "      <td>79</td>\n",
       "      <td>35</td>\n",
       "    </tr>\n",
       "    <tr>\n",
       "      <th>299</th>\n",
       "      <td>300</td>\n",
       "      <td>98</td>\n",
       "      <td>181</td>\n",
       "      <td>42</td>\n",
       "      <td>79</td>\n",
       "      <td>77</td>\n",
       "      <td>104</td>\n",
       "    </tr>\n",
       "  </tbody>\n",
       "</table>\n",
       "<p>300 rows × 7 columns</p>\n",
       "</div>"
      ],
      "text/plain": [
       "     day  Seller 1  Seller 2  Seller 3  Seller 4  Seller 5  Seller 6\n",
       "0      1       320        89        21        57        57       107\n",
       "1      2        74       386       181        71        29        95\n",
       "2      3       340       186       151       108       342        78\n",
       "3      4       322       606       257        96       167       423\n",
       "4      5       146        78       269       527       321        70\n",
       "5      6        24        31       152        73        14       497\n",
       "6      7        42        69       178        50       435        36\n",
       "7      8        76       109        58        22       211       222\n",
       "8      9        99        80       430        39        95       163\n",
       "9     10       915        68        19      1092       257        27\n",
       "10    11       202        23        17       132       198       396\n",
       "11    12        47        47        30       230       282        31\n",
       "12    13        34        36       231       121       255        38\n",
       "13    14        76       132        36       117       177        59\n",
       "14    15        75       137        70        85       173        37\n",
       "15    16        68       412       107       167        81        71\n",
       "16    17       126        73        64       378       237        58\n",
       "17    18        43       239        14       229        87        91\n",
       "18    19       149        64       293        81       558        71\n",
       "19    20        31        24        93       110       166        10\n",
       "20    21        81       149       162        26       638        67\n",
       "21    22       141        61       100       285       105        71\n",
       "22    23       113        46        61       531       122        59\n",
       "23    24       209        49       109        24       349        27\n",
       "24    25        94       272       211        98       467        55\n",
       "25    26       159       425        24        44        48       440\n",
       "26    27       271       252        34        33       348        80\n",
       "27    28        52        77       331       267       450        57\n",
       "28    29        30        29        43       292        96        86\n",
       "29    30       104       122       101       648       303         8\n",
       "..   ...       ...       ...       ...       ...       ...       ...\n",
       "270  271       133        83        16       160       237       169\n",
       "271  272       479        59       790        80      2511        38\n",
       "272  273        66        40        84       497       206       168\n",
       "273  274        33       105        27       303        43       247\n",
       "274  275        75        57       315       182       348        43\n",
       "275  276       177        31        79       216       272        30\n",
       "276  277       118        27       125       241       216       203\n",
       "277  278       336       275        48       284       164        49\n",
       "278  279        75        53        19        42       272       203\n",
       "279  280        21        49        85       433        93       256\n",
       "280  281       240        76       199        27        30       218\n",
       "281  282        35        58        98        13       265       120\n",
       "282  283       176        66       102        84       194        29\n",
       "283  284       160        74       122       179       443       139\n",
       "284  285       140        57       144       144        44       113\n",
       "285  286       489        36        78       172        32        46\n",
       "286  287        82       193        75       110        28        85\n",
       "287  288        29        90        50        57       329        37\n",
       "288  289       106        26        28       114       433       120\n",
       "289  290        80       210        26       530        71        16\n",
       "290  291       179        20        48        77       130        75\n",
       "291  292       450        69        50       158        36       152\n",
       "292  293        18        76        69       158       358        20\n",
       "293  294        82        42        32       310        29        47\n",
       "294  295       106       130        44        36       173        68\n",
       "295  296       165        24       397        71       305       277\n",
       "296  297        52       405       140       130       141       666\n",
       "297  298       143       140       127        68       178        91\n",
       "298  299       142       478        97       118        79        35\n",
       "299  300        98       181        42        79        77       104\n",
       "\n",
       "[300 rows x 7 columns]"
      ]
     },
     "execution_count": 39,
     "metadata": {},
     "output_type": "execute_result"
    }
   ],
   "source": [
    "df = pd.read_csv('sales-full.csv')\n",
    "df"
   ]
  },
  {
   "cell_type": "markdown",
   "metadata": {},
   "source": [
    "**Question #1**\n",
    "Based on the full data, are any of the encyclopedia sellers in this set clearly different from the others in terms of average daily sales? Who would you give a raise?"
   ]
  },
  {
   "cell_type": "code",
   "execution_count": 32,
   "metadata": {},
   "outputs": [
    {
     "data": {
      "image/png": "[encoded data removed]",
      "text/plain": [
       "<matplotlib.figure.Figure at 0x16237c03780>"
      ]
     },
     "metadata": {},
     "output_type": "display_data"
    }
   ],
   "source": [
    "cis = DataFrame({'mean':df.mean(), 'ci':t*df.std()/sqn})\n",
    "df_pivot = pd.melt(df,value_vars=['Seller 1','Seller 2','Seller 3','Seller 4','Seller 5','Seller 6'], \n",
    "                   var_name=\"Sellers\", value_name=\"Sales\")\n",
    "df_pivot.tail(5)\n",
    "# Import seaborn\n",
    "import seaborn as sns\n",
    "\n",
    "sns.set_style('whitegrid')\n",
    "g = sns.barplot(x=\"Sellers\", y=\"Sales\", hue=\"Sellers\", data=df_pivot,\n",
    "                palette=\"muted\", ci=95)"
   ]
  },
  {
   "cell_type": "markdown",
   "metadata": {},
   "source": [
    "**Question #2**\n",
    "We have data from six sellers from a company with many more. Based on this sample, does it look like the weeks with the best *average daily sales per seller* are clearly different from the weeks with the worst *average daily sales per seller*? \n",
    "*(Be sure to think about your unit of analysis.)*"
   ]
  },
  {
   "cell_type": "code",
   "execution_count": 33,
   "metadata": {
    "scrolled": false
   },
   "outputs": [
    {
     "data": {
      "image/png": "[encoded data removed]",
      "text/plain": [
       "<matplotlib.figure.Figure at 0x16237d70588>"
      ]
     },
     "metadata": {},
     "output_type": "display_data"
    },
    {
     "data": {
      "image/png": "[encoded data removed]",
      "text/plain": [
       "<matplotlib.figure.Figure at 0x16237b3fba8>"
      ]
     },
     "metadata": {},
     "output_type": "display_data"
    },
    {
     "data": {
      "image/png": "[encoded data removed]",
      "text/plain": [
       "<matplotlib.figure.Figure at 0x16237d9db00>"
      ]
     },
     "metadata": {},
     "output_type": "display_data"
    },
    {
     "data": {
      "image/png": "[encoded data removed]",
      "text/plain": [
       "<matplotlib.figure.Figure at 0x16237b08e10>"
      ]
     },
     "metadata": {},
     "output_type": "display_data"
    },
    {
     "data": {
      "image/png": "[encoded data removed]",
      "text/plain": [
       "<matplotlib.figure.Figure at 0x16237e32a90>"
      ]
     },
     "metadata": {},
     "output_type": "display_data"
    },
    {
     "data": {
      "image/png": "[encoded data removed]",
      "text/plain": [
       "<matplotlib.figure.Figure at 0x16237e97c88>"
      ]
     },
     "metadata": {},
     "output_type": "display_data"
    },
    {
     "data": {
      "image/png": "[encoded data removed]",
      "text/plain": [
       "<matplotlib.figure.Figure at 0x16237f13358>"
      ]
     },
     "metadata": {},
     "output_type": "display_data"
    },
    {
     "data": {
      "image/png": "[encoded data removed]",
      "text/plain": [
       "<matplotlib.figure.Figure at 0x16237f7e7b8>"
      ]
     },
     "metadata": {},
     "output_type": "display_data"
    },
    {
     "data": {
      "image/png": "[encoded data removed]",
      "text/plain": [
       "<matplotlib.figure.Figure at 0x16237f7ecf8>"
      ]
     },
     "metadata": {},
     "output_type": "display_data"
    },
    {
     "data": {
      "image/png": "[encoded data removed]",
      "text/plain": [
       "<matplotlib.figure.Figure at 0x16238057e80>"
      ]
     },
     "metadata": {},
     "output_type": "display_data"
    },
    {
     "data": {
      "image/png": "[encoded data removed]",
      "text/plain": [
       "<matplotlib.figure.Figure at 0x162380c5cc0>"
      ]
     },
     "metadata": {},
     "output_type": "display_data"
    },
    {
     "data": {
      "image/png": "[encoded data removed]",
      "text/plain": [
       "<matplotlib.figure.Figure at 0x162380f4748>"
      ]
     },
     "metadata": {},
     "output_type": "display_data"
    }
   ],
   "source": [
    "df_copy = df.copy()\n",
    "\n",
    "#we make another column called week, this is achieved by doing an integer division over 5 days.\n",
    "df_copy['week'] = (df_copy['day']//5)\n",
    "\n",
    "#the day column is irrelevant now.\n",
    "del df_copy['day'] \n",
    "\n",
    "#we take the average of each week per seller\n",
    "df_g = df_copy.groupby('week').mean()\n",
    "\n",
    "for x in range(1,7):  \n",
    "   \n",
    "    #generate plot for best 10 weeks per seller\n",
    "    best=df_g[[\"Seller \"+str(x)]].sort_values(by=\"Seller \"+str(x), ascending=False).head(10)\n",
    "    bestPlot = best.plot(kind='bar', color = 'green', title=('Top 10 Best Weeks for Seller '+str(x)))\n",
    "\n",
    "    #generate plot for worst 10 weeks per seller\n",
    "    worst=df_g[[\"Seller \"+str(x)]].sort_values(by=\"Seller \"+str(x)).head(10)\n",
    "    worstPlot = worst.plot(kind='bar', color = 'red',title=('Top 10 Worst Weeks for Seller '+str(x)))\n",
    "\n",
    "\n",
    "\n",
    "    "
   ]
  },
  {
   "cell_type": "markdown",
   "metadata": {},
   "source": [
    "**Question #3** {Question of your choice.}"
   ]
  },
  {
   "cell_type": "code",
   "execution_count": 34,
   "metadata": {
    "collapsed": true
   },
   "outputs": [],
   "source": [
    "What day of the week generates the most sales?"
   ]
  },
  {
   "cell_type": "code",
   "execution_count": 42,
   "metadata": {},
   "outputs": [
    {
     "data": {
      "image/png": "[encoded data removed]",
      "text/plain": [
       "<matplotlib.figure.Figure at 0x16237c56278>"
      ]
     },
     "metadata": {},
     "output_type": "display_data"
    }
   ],
   "source": [
    "# make a copy of dataframe\n",
    "df_days = df.copy()\n",
    "\n",
    "# add days of the week as a column\n",
    "df_days['Day of week'] = (df_days.index % 7)\n",
    "\n",
    "# get the mean of each day\n",
    "df_days = df_days.groupby('Day of week').mean()\n",
    "df_days = df_days.drop('day',axis=1)\n",
    "\n",
    "# change the numbers to readable days\n",
    "index_list = df_days.index.tolist()\n",
    "index_list[0] = 'Sunday'\n",
    "index_list[1] = 'Monday'\n",
    "index_list[2] = 'Tuesday'\n",
    "index_list[3] = 'Wednesday'\n",
    "index_list[4] = 'Thursday'\n",
    "index_list[5] = 'Friday'\n",
    "index_list[6] = 'Saturday'\n",
    "df_days.index = index_list\n",
    "\n",
    "# plot a graph\n",
    "plotVariable = df_days.plot(kind='bar',figsize=(10,10))\n",
    "plotVariable.legend(loc='center left', bbox_to_anchor=(1.0,0.5))\n",
    "\n",
    "plt.savefig('3_Days of week.png')"
   ]
  },
  {
   "cell_type": "code",
   "execution_count": null,
   "metadata": {
    "collapsed": true
   },
   "outputs": [],
   "source": []
  },
  {
   "cell_type": "code",
   "execution_count": null,
   "metadata": {
    "collapsed": true
   },
   "outputs": [],
   "source": []
  }
 ],
 "metadata": {
  "anaconda-cloud": {},
  "kernelspec": {
   "display_name": "Python 3",
   "language": "python",
   "name": "python3"
  },
  "language_info": {
   "codemirror_mode": {
    "name": "ipython",
    "version": 3
   },
   "file_extension": ".py",
   "mimetype": "text/x-python",
   "name": "python",
   "nbconvert_exporter": "python",
   "pygments_lexer": "ipython3",
   "version": "3.6.3"
  }
 },
 "nbformat": 4,
 "nbformat_minor": 1
}
